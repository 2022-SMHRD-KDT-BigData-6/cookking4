{
 "cells": [
  {
   "cell_type": "code",
   "execution_count": 3,
   "id": "0d2ce186",
   "metadata": {
    "scrolled": true
   },
   "outputs": [],
   "source": [
    "import pandas as pd\n",
    "import numpy as np\n",
    "from sklearn.metrics.pairwise import cosine_similarity\n",
    "from sklearn.metrics import mean_squared_error\n",
    "from flask import Flask, jsonify\n",
    "import cx_Oracle"
   ]
  },
  {
   "cell_type": "code",
   "execution_count": 4,
   "id": "8c5d67e5",
   "metadata": {},
   "outputs": [],
   "source": [
    "# recipe_point 테이블의 정보를 가져와 csv로 저장 후 csv read\n",
    "recipe_id_list =[]\n",
    "a_point_list = []\n",
    "log_id_list = []\n",
    "\n",
    "# 전체 선택\n",
    "dsn=cx_Oracle.makedsn('project-db-stu.ddns.net',1524, 'xe')\n",
    "conn=cx_Oracle.connect('cgi_2_0516_1/smhrd1@project-db-stu.ddns.net:1524/xe')\n",
    "cur = conn.cursor()\n",
    "\n",
    "rs=cur.execute(\"select * from recipe_point\")\n",
    "\n",
    "for record in rs:\n",
    "    recipe_id_list.append(record[0])\n",
    "    a_point_list.append(record[1])\n",
    "    log_id_list.append(record[2])\n",
    "\n",
    "conn.commit()\n",
    "conn.close()\n",
    "\n",
    "dic = {'recipe_id':recipe_id_list,'a_point':a_point_list,'log_id':log_id_list}\n",
    "df = pd.DataFrame(dic)\n",
    "df.to_csv('rating.csv', index ='false', encoding='cp949')\n",
    "\n",
    "rating = pd.read_csv('rating.csv')\n",
    "recipe = pd.read_csv('list.csv', encoding = 'cp949')"
   ]
  },
  {
   "cell_type": "code",
   "execution_count": 7,
   "id": "050ed350",
   "metadata": {},
   "outputs": [
    {
     "data": {
      "text/html": [
       "<div>\n",
       "<style scoped>\n",
       "    .dataframe tbody tr th:only-of-type {\n",
       "        vertical-align: middle;\n",
       "    }\n",
       "\n",
       "    .dataframe tbody tr th {\n",
       "        vertical-align: top;\n",
       "    }\n",
       "\n",
       "    .dataframe thead th {\n",
       "        text-align: right;\n",
       "    }\n",
       "</style>\n",
       "<table border=\"1\" class=\"dataframe\">\n",
       "  <thead>\n",
       "    <tr style=\"text-align: right;\">\n",
       "      <th>recipe_id</th>\n",
       "      <th>1</th>\n",
       "      <th>2</th>\n",
       "      <th>4</th>\n",
       "      <th>5</th>\n",
       "      <th>6</th>\n",
       "      <th>7</th>\n",
       "      <th>10</th>\n",
       "      <th>11</th>\n",
       "      <th>12</th>\n",
       "      <th>13</th>\n",
       "      <th>...</th>\n",
       "      <th>90941</th>\n",
       "      <th>90960</th>\n",
       "      <th>90980</th>\n",
       "      <th>91023</th>\n",
       "      <th>120344</th>\n",
       "      <th>120401</th>\n",
       "      <th>120441</th>\n",
       "      <th>120463</th>\n",
       "      <th>120476</th>\n",
       "      <th>195453</th>\n",
       "    </tr>\n",
       "    <tr>\n",
       "      <th>log_id</th>\n",
       "      <th></th>\n",
       "      <th></th>\n",
       "      <th></th>\n",
       "      <th></th>\n",
       "      <th></th>\n",
       "      <th></th>\n",
       "      <th></th>\n",
       "      <th></th>\n",
       "      <th></th>\n",
       "      <th></th>\n",
       "      <th></th>\n",
       "      <th></th>\n",
       "      <th></th>\n",
       "      <th></th>\n",
       "      <th></th>\n",
       "      <th></th>\n",
       "      <th></th>\n",
       "      <th></th>\n",
       "      <th></th>\n",
       "      <th></th>\n",
       "      <th></th>\n",
       "    </tr>\n",
       "  </thead>\n",
       "  <tbody>\n",
       "    <tr>\n",
       "      <th>chs</th>\n",
       "      <td>3.0</td>\n",
       "      <td>2.0</td>\n",
       "      <td>0.0</td>\n",
       "      <td>4.0</td>\n",
       "      <td>0.0</td>\n",
       "      <td>1.0</td>\n",
       "      <td>5.0</td>\n",
       "      <td>0.0</td>\n",
       "      <td>3.0</td>\n",
       "      <td>2.0</td>\n",
       "      <td>...</td>\n",
       "      <td>0.0</td>\n",
       "      <td>4.0</td>\n",
       "      <td>3.0</td>\n",
       "      <td>0.0</td>\n",
       "      <td>0.0</td>\n",
       "      <td>4.0</td>\n",
       "      <td>0.0</td>\n",
       "      <td>0.0</td>\n",
       "      <td>1.0</td>\n",
       "      <td>0.0</td>\n",
       "    </tr>\n",
       "    <tr>\n",
       "      <th>do</th>\n",
       "      <td>3.0</td>\n",
       "      <td>5.0</td>\n",
       "      <td>4.0</td>\n",
       "      <td>5.0</td>\n",
       "      <td>3.0</td>\n",
       "      <td>0.0</td>\n",
       "      <td>0.0</td>\n",
       "      <td>3.0</td>\n",
       "      <td>0.0</td>\n",
       "      <td>3.0</td>\n",
       "      <td>...</td>\n",
       "      <td>2.0</td>\n",
       "      <td>1.0</td>\n",
       "      <td>0.0</td>\n",
       "      <td>0.0</td>\n",
       "      <td>0.0</td>\n",
       "      <td>0.0</td>\n",
       "      <td>0.0</td>\n",
       "      <td>4.0</td>\n",
       "      <td>5.0</td>\n",
       "      <td>0.0</td>\n",
       "    </tr>\n",
       "    <tr>\n",
       "      <th>jj</th>\n",
       "      <td>0.0</td>\n",
       "      <td>0.0</td>\n",
       "      <td>4.0</td>\n",
       "      <td>3.0</td>\n",
       "      <td>5.0</td>\n",
       "      <td>5.0</td>\n",
       "      <td>0.0</td>\n",
       "      <td>2.0</td>\n",
       "      <td>0.0</td>\n",
       "      <td>0.0</td>\n",
       "      <td>...</td>\n",
       "      <td>0.0</td>\n",
       "      <td>0.0</td>\n",
       "      <td>0.0</td>\n",
       "      <td>1.0</td>\n",
       "      <td>3.0</td>\n",
       "      <td>2.0</td>\n",
       "      <td>0.0</td>\n",
       "      <td>5.0</td>\n",
       "      <td>2.0</td>\n",
       "      <td>0.0</td>\n",
       "    </tr>\n",
       "  </tbody>\n",
       "</table>\n",
       "<p>3 rows × 371 columns</p>\n",
       "</div>"
      ],
      "text/plain": [
       "recipe_id  1       2       4       5       6       7       10      11      \\\n",
       "log_id                                                                      \n",
       "chs           3.0     2.0     0.0     4.0     0.0     1.0     5.0     0.0   \n",
       "do            3.0     5.0     4.0     5.0     3.0     0.0     0.0     3.0   \n",
       "jj            0.0     0.0     4.0     3.0     5.0     5.0     0.0     2.0   \n",
       "\n",
       "recipe_id  12      13      ...  90941   90960   90980   91023   120344  \\\n",
       "log_id                     ...                                           \n",
       "chs           3.0     2.0  ...     0.0     4.0     3.0     0.0     0.0   \n",
       "do            0.0     3.0  ...     2.0     1.0     0.0     0.0     0.0   \n",
       "jj            0.0     0.0  ...     0.0     0.0     0.0     1.0     3.0   \n",
       "\n",
       "recipe_id  120401  120441  120463  120476  195453  \n",
       "log_id                                             \n",
       "chs           4.0     0.0     0.0     1.0     0.0  \n",
       "do            0.0     0.0     4.0     5.0     0.0  \n",
       "jj            2.0     0.0     5.0     2.0     0.0  \n",
       "\n",
       "[3 rows x 371 columns]"
      ]
     },
     "execution_count": 7,
     "metadata": {},
     "output_type": "execute_result"
    }
   ],
   "source": [
    "# rating 데이터와 movies 데이터 결합\n",
    "rating_recipe = pd.merge(rating, recipe, on='recipe_id')\n",
    "# 사용자-아이템 평점 행렬 생성\n",
    "rating_matrix = rating_recipe.pivot_table('a_point','log_id','recipe_id')\n",
    "# NaN값 0\n",
    "rating_matrix.fillna(0, inplace=True)\n",
    "# 아이템-사용자 평점 행렬로 전치\n",
    "rating_matrix_T = rating_matrix.T\n",
    "rating_matrix.head(3)"
   ]
  },
  {
   "cell_type": "code",
   "execution_count": 11,
   "id": "6d0aca6b",
   "metadata": {},
   "outputs": [
    {
     "data": {
      "text/html": [
       "<div>\n",
       "<style scoped>\n",
       "    .dataframe tbody tr th:only-of-type {\n",
       "        vertical-align: middle;\n",
       "    }\n",
       "\n",
       "    .dataframe tbody tr th {\n",
       "        vertical-align: top;\n",
       "    }\n",
       "\n",
       "    .dataframe thead th {\n",
       "        text-align: right;\n",
       "    }\n",
       "</style>\n",
       "<table border=\"1\" class=\"dataframe\">\n",
       "  <thead>\n",
       "    <tr style=\"text-align: right;\">\n",
       "      <th>recipe_id</th>\n",
       "      <th>1</th>\n",
       "      <th>2</th>\n",
       "      <th>4</th>\n",
       "      <th>5</th>\n",
       "    </tr>\n",
       "    <tr>\n",
       "      <th>recipe_id</th>\n",
       "      <th></th>\n",
       "      <th></th>\n",
       "      <th></th>\n",
       "      <th></th>\n",
       "    </tr>\n",
       "  </thead>\n",
       "  <tbody>\n",
       "    <tr>\n",
       "      <th>1</th>\n",
       "      <td>1.000000</td>\n",
       "      <td>0.649934</td>\n",
       "      <td>0.656532</td>\n",
       "      <td>0.808290</td>\n",
       "    </tr>\n",
       "    <tr>\n",
       "      <th>2</th>\n",
       "      <td>0.649934</td>\n",
       "      <td>1.000000</td>\n",
       "      <td>0.487660</td>\n",
       "      <td>0.707594</td>\n",
       "    </tr>\n",
       "    <tr>\n",
       "      <th>4</th>\n",
       "      <td>0.656532</td>\n",
       "      <td>0.487660</td>\n",
       "      <td>1.000000</td>\n",
       "      <td>0.560993</td>\n",
       "    </tr>\n",
       "    <tr>\n",
       "      <th>5</th>\n",
       "      <td>0.808290</td>\n",
       "      <td>0.707594</td>\n",
       "      <td>0.560993</td>\n",
       "      <td>1.000000</td>\n",
       "    </tr>\n",
       "  </tbody>\n",
       "</table>\n",
       "</div>"
      ],
      "text/plain": [
       "recipe_id         1         2         4         5\n",
       "recipe_id                                        \n",
       "1          1.000000  0.649934  0.656532  0.808290\n",
       "2          0.649934  1.000000  0.487660  0.707594\n",
       "4          0.656532  0.487660  1.000000  0.560993\n",
       "5          0.808290  0.707594  0.560993  1.000000"
      ]
     },
     "execution_count": 11,
     "metadata": {},
     "output_type": "execute_result"
    }
   ],
   "source": [
    "# 아이템 유사도 행렬\n",
    "item_sim = cosine_similarity(rating_matrix_T, rating_matrix_T)\n",
    "\n",
    "# 데이터 프레임 형태로 저장\n",
    "item_sim_df = pd.DataFrame(item_sim, index=rating_matrix_T.index, columns=rating_matrix_T.index)\n",
    "\n",
    "# item_sim_df.shape\n",
    "item_sim_df.iloc[:4,:4]"
   ]
  },
  {
   "cell_type": "code",
   "execution_count": 22,
   "id": "3f31cae2",
   "metadata": {},
   "outputs": [
    {
     "data": {
      "text/plain": [
       "recipe_id\n",
       "281    0.981495\n",
       "364    0.979912\n",
       "396    0.944911\n",
       "331    0.943880\n",
       "31     0.942809\n",
       "Name: 1, dtype: float64"
      ]
     },
     "execution_count": 22,
     "metadata": {},
     "output_type": "execute_result"
    }
   ],
   "source": [
    "item_sim_df[1].sort_values(ascending=False)[1:6]"
   ]
  },
  {
   "cell_type": "code",
   "execution_count": 9,
   "id": "4a0af5a8",
   "metadata": {},
   "outputs": [],
   "source": [
    "# 인수로 사용자-아이템 평점 행렬(NaN은 현재 0으로 대체), 아이템 유사도 행렬 사용\n",
    "def predict_rating(ratings_arr, item_sim_arr):\n",
    "    # ratings_arr: u x i, item_sim_arr: i x i\n",
    "    sum_sr = ratings_arr @ item_sim_arr\n",
    "    sum_s_abs = np.array( [ np.abs(item_sim_arr).sum(axis=1) ] )\n",
    "    \n",
    "    ratings_pred =  sum_sr / sum_s_abs\n",
    "    \n",
    "    return ratings_pred"
   ]
  },
  {
   "cell_type": "code",
   "execution_count": 12,
   "id": "feb26dcf",
   "metadata": {},
   "outputs": [
    {
     "data": {
      "text/html": [
       "<div>\n",
       "<style scoped>\n",
       "    .dataframe tbody tr th:only-of-type {\n",
       "        vertical-align: middle;\n",
       "    }\n",
       "\n",
       "    .dataframe tbody tr th {\n",
       "        vertical-align: top;\n",
       "    }\n",
       "\n",
       "    .dataframe thead th {\n",
       "        text-align: right;\n",
       "    }\n",
       "</style>\n",
       "<table border=\"1\" class=\"dataframe\">\n",
       "  <thead>\n",
       "    <tr style=\"text-align: right;\">\n",
       "      <th>recipe_id</th>\n",
       "      <th>1</th>\n",
       "      <th>2</th>\n",
       "      <th>4</th>\n",
       "      <th>5</th>\n",
       "      <th>6</th>\n",
       "      <th>7</th>\n",
       "      <th>10</th>\n",
       "      <th>11</th>\n",
       "      <th>12</th>\n",
       "      <th>13</th>\n",
       "      <th>...</th>\n",
       "      <th>90941</th>\n",
       "      <th>90960</th>\n",
       "      <th>90980</th>\n",
       "      <th>91023</th>\n",
       "      <th>120344</th>\n",
       "      <th>120401</th>\n",
       "      <th>120441</th>\n",
       "      <th>120463</th>\n",
       "      <th>120476</th>\n",
       "      <th>195453</th>\n",
       "    </tr>\n",
       "    <tr>\n",
       "      <th>log_id</th>\n",
       "      <th></th>\n",
       "      <th></th>\n",
       "      <th></th>\n",
       "      <th></th>\n",
       "      <th></th>\n",
       "      <th></th>\n",
       "      <th></th>\n",
       "      <th></th>\n",
       "      <th></th>\n",
       "      <th></th>\n",
       "      <th></th>\n",
       "      <th></th>\n",
       "      <th></th>\n",
       "      <th></th>\n",
       "      <th></th>\n",
       "      <th></th>\n",
       "      <th></th>\n",
       "      <th></th>\n",
       "      <th></th>\n",
       "      <th></th>\n",
       "      <th></th>\n",
       "    </tr>\n",
       "  </thead>\n",
       "  <tbody>\n",
       "    <tr>\n",
       "      <th>chs</th>\n",
       "      <td>1.933480</td>\n",
       "      <td>1.916527</td>\n",
       "      <td>1.355505</td>\n",
       "      <td>1.867674</td>\n",
       "      <td>1.347874</td>\n",
       "      <td>1.658815</td>\n",
       "      <td>2.152681</td>\n",
       "      <td>1.356010</td>\n",
       "      <td>2.489870</td>\n",
       "      <td>2.181998</td>\n",
       "      <td>...</td>\n",
       "      <td>1.324299</td>\n",
       "      <td>2.460858</td>\n",
       "      <td>3.546202</td>\n",
       "      <td>1.424707</td>\n",
       "      <td>1.391949</td>\n",
       "      <td>2.790665</td>\n",
       "      <td>1.471525</td>\n",
       "      <td>1.318137</td>\n",
       "      <td>1.518896</td>\n",
       "      <td>1.469551</td>\n",
       "    </tr>\n",
       "    <tr>\n",
       "      <th>do</th>\n",
       "      <td>1.769151</td>\n",
       "      <td>2.747802</td>\n",
       "      <td>1.828385</td>\n",
       "      <td>1.881220</td>\n",
       "      <td>1.764842</td>\n",
       "      <td>1.238538</td>\n",
       "      <td>1.255646</td>\n",
       "      <td>1.988810</td>\n",
       "      <td>1.234553</td>\n",
       "      <td>2.496943</td>\n",
       "      <td>...</td>\n",
       "      <td>2.618800</td>\n",
       "      <td>1.472915</td>\n",
       "      <td>1.207828</td>\n",
       "      <td>1.229196</td>\n",
       "      <td>1.297590</td>\n",
       "      <td>1.220122</td>\n",
       "      <td>1.260317</td>\n",
       "      <td>1.968410</td>\n",
       "      <td>2.075218</td>\n",
       "      <td>1.224336</td>\n",
       "    </tr>\n",
       "    <tr>\n",
       "      <th>jj</th>\n",
       "      <td>1.288730</td>\n",
       "      <td>1.284454</td>\n",
       "      <td>1.873791</td>\n",
       "      <td>1.682587</td>\n",
       "      <td>2.136030</td>\n",
       "      <td>3.055600</td>\n",
       "      <td>1.290017</td>\n",
       "      <td>1.792112</td>\n",
       "      <td>1.280114</td>\n",
       "      <td>1.284363</td>\n",
       "      <td>...</td>\n",
       "      <td>1.270497</td>\n",
       "      <td>1.268630</td>\n",
       "      <td>1.283896</td>\n",
       "      <td>1.761980</td>\n",
       "      <td>2.237829</td>\n",
       "      <td>1.993124</td>\n",
       "      <td>1.276469</td>\n",
       "      <td>2.197923</td>\n",
       "      <td>1.630776</td>\n",
       "      <td>1.244596</td>\n",
       "    </tr>\n",
       "  </tbody>\n",
       "</table>\n",
       "<p>3 rows × 371 columns</p>\n",
       "</div>"
      ],
      "text/plain": [
       "recipe_id    1         2         4         5         6         7       \\\n",
       "log_id                                                                  \n",
       "chs        1.933480  1.916527  1.355505  1.867674  1.347874  1.658815   \n",
       "do         1.769151  2.747802  1.828385  1.881220  1.764842  1.238538   \n",
       "jj         1.288730  1.284454  1.873791  1.682587  2.136030  3.055600   \n",
       "\n",
       "recipe_id    10        11        12        13      ...    90941     90960   \\\n",
       "log_id                                             ...                       \n",
       "chs        2.152681  1.356010  2.489870  2.181998  ...  1.324299  2.460858   \n",
       "do         1.255646  1.988810  1.234553  2.496943  ...  2.618800  1.472915   \n",
       "jj         1.290017  1.792112  1.280114  1.284363  ...  1.270497  1.268630   \n",
       "\n",
       "recipe_id    90980     91023     120344    120401    120441    120463  \\\n",
       "log_id                                                                  \n",
       "chs        3.546202  1.424707  1.391949  2.790665  1.471525  1.318137   \n",
       "do         1.207828  1.229196  1.297590  1.220122  1.260317  1.968410   \n",
       "jj         1.283896  1.761980  2.237829  1.993124  1.276469  2.197923   \n",
       "\n",
       "recipe_id    120476    195453  \n",
       "log_id                         \n",
       "chs        1.518896  1.469551  \n",
       "do         2.075218  1.224336  \n",
       "jj         1.630776  1.244596  \n",
       "\n",
       "[3 rows x 371 columns]"
      ]
     },
     "execution_count": 12,
     "metadata": {},
     "output_type": "execute_result"
    }
   ],
   "source": [
    "# 사용자별 예측 평점\n",
    "rating_pred = predict_rating(rating_matrix.values , item_sim_df.values)\n",
    "\n",
    "rating_pred_matrix = pd.DataFrame(data=rating_pred, index= rating_matrix.index, columns = rating_matrix.columns)\n",
    "rating_pred_matrix.head(3)"
   ]
  },
  {
   "cell_type": "code",
   "execution_count": 27,
   "id": "0ba866f3",
   "metadata": {},
   "outputs": [],
   "source": [
    "# 성능 평가는 MSE를 사용\n",
    "def get_mse(pred, actual):\n",
    "    # 평점이 있는 실제 영화만 추출 (1차원 배열로 변환)\n",
    "    pred = pred[actual.nonzero()].flatten()\n",
    "    actual = actual[actual.nonzero()].flatten()\n",
    "    \n",
    "    return mean_squared_error(pred, actual)"
   ]
  },
  {
   "cell_type": "code",
   "execution_count": 29,
   "id": "a8a26200",
   "metadata": {},
   "outputs": [
    {
     "name": "stdout",
     "output_type": "stream",
     "text": [
      "아이템 기반 모든 인접 이웃 MSE: 2.3785\n"
     ]
    }
   ],
   "source": [
    "MSE1 = get_mse(rating_pred, rating_matrix.values)\n",
    "print(f'아이템 기반 모든 인접 이웃 MSE: {MSE1:.4f}')"
   ]
  },
  {
   "cell_type": "code",
   "execution_count": 30,
   "id": "287a28b5",
   "metadata": {},
   "outputs": [],
   "source": [
    "def predict_rating_topsim(ratings_arr, item_sim_arr, N=20):\n",
    "    # 사용자-아이템 평점 행렬 크기만큼 0으로 채운 예측 행렬 초기화\n",
    "    pred = np.zeros(ratings_arr.shape)\n",
    "\n",
    "    # 사용자-아이템 평점 행렬의 열 크기(아이템 수)만큼 반복 (row: 사용자, col: 아이템)\n",
    "    for col in range(ratings_arr.shape[1]):\n",
    "                \n",
    "        # 특정 아이템의 유사도 행렬 오름차순 정렬시 index .. (1)\n",
    "        temp = np.argsort(item_sim_arr[:, col]) \n",
    "        \n",
    "        # (1)의 index를 역순으로 나열시 상위 N개의 index = 특정 아이템의 유사도 상위 N개 아이템 index .. (2)\n",
    "        top_n_items = [ temp[:-1-N:-1] ]\n",
    "        \n",
    "        # 개인화된 예측 평점을 계산: 반복당 특정 아이템의 예측 평점(사용자 전체)\n",
    "        for row in range(ratings_arr.shape[0]):\n",
    "            \n",
    "            # (2)의 유사도 행렬\n",
    "            item_sim_arr_topN = item_sim_arr[col, :][top_n_items].T # N x 1\n",
    "            \n",
    "            # (2)의 실제 평점 행렬\n",
    "            ratings_arr_topN = ratings_arr[row, :][top_n_items]     # 1 x N\n",
    "            \n",
    "            # 예측 평점\n",
    "            pred[row, col] = ratings_arr_topN @ item_sim_arr_topN\n",
    "            pred[row, col] /= np.sum( np.abs(item_sim_arr_topN) )\n",
    "            \n",
    "    return pred"
   ]
  },
  {
   "cell_type": "code",
   "execution_count": 31,
   "id": "35704384",
   "metadata": {},
   "outputs": [
    {
     "name": "stdout",
     "output_type": "stream",
     "text": [
      "아이템 기반 인접 TOP-20 이웃 MSE: 0.8033\n"
     ]
    },
    {
     "name": "stderr",
     "output_type": "stream",
     "text": [
      "C:\\Users\\GITCT\\AppData\\Local\\Temp/ipykernel_20508/756703875.py:18: FutureWarning: Using a non-tuple sequence for multidimensional indexing is deprecated; use `arr[tuple(seq)]` instead of `arr[seq]`. In the future this will be interpreted as an array index, `arr[np.array(seq)]`, which will result either in an error or a different result.\n",
      "  item_sim_arr_topN = item_sim_arr[col, :][top_n_items].T # N x 1\n",
      "C:\\Users\\GITCT\\AppData\\Local\\Temp/ipykernel_20508/756703875.py:21: FutureWarning: Using a non-tuple sequence for multidimensional indexing is deprecated; use `arr[tuple(seq)]` instead of `arr[seq]`. In the future this will be interpreted as an array index, `arr[np.array(seq)]`, which will result either in an error or a different result.\n",
      "  ratings_arr_topN = ratings_arr[row, :][top_n_items]     # 1 x N\n"
     ]
    }
   ],
   "source": [
    "# 사용자별 예측 평점\n",
    "ratings_pred = predict_rating_topsim(rating_matrix.values , item_sim_df.values, N=20)\n",
    "\n",
    "# 성능 평가\n",
    "MSE2 = get_mse(ratings_pred, rating_matrix.values )\n",
    "print(f'아이템 기반 인접 TOP-20 이웃 MSE: {MSE2:.4f}')\n",
    "\n",
    "# 예측 평점 데이터 프레임\n",
    "ratings_pred_matrix = pd.DataFrame(data=ratings_pred, index= rating_matrix.index,\n",
    "                                   columns = rating_matrix.columns)"
   ]
  },
  {
   "cell_type": "code",
   "execution_count": 33,
   "id": "deb2ab69",
   "metadata": {},
   "outputs": [
    {
     "data": {
      "text/plain": [
       "recipe_id\n",
       "241    5.0\n",
       "325    5.0\n",
       "428    5.0\n",
       "422    5.0\n",
       "91     5.0\n",
       "Name: chs, dtype: float64"
      ]
     },
     "execution_count": 33,
     "metadata": {},
     "output_type": "execute_result"
    }
   ],
   "source": [
    "# userId 9가 높은 평점을 준 영화 (실제 평점)\n",
    "user_rating_id = rating_matrix.loc['chs', :]\n",
    "user_rating_id[ user_rating_id > 0].sort_values(ascending=False)[:5]"
   ]
  },
  {
   "cell_type": "code",
   "execution_count": 35,
   "id": "42be1768",
   "metadata": {},
   "outputs": [],
   "source": [
    "# 아직 먹지 않은 레시피 리스트 함수\n",
    "def get_uneat_recipe(ratings_matrix, userId):\n",
    "    \n",
    "    # user_rating: userId의 아이템 평점 정보 (시리즈 형태: title을 index로 가진다.)\n",
    "    user_rating = ratings_matrix.loc[userId,:]\n",
    "    \n",
    "    # user_rating=0인 아직 안먹은 레시피\n",
    "    uneat_recipe_list = user_rating[ user_rating == 0].index.tolist()\n",
    "    \n",
    "    # 모든 레시피명을 list 객체로 만듬. \n",
    "    recipe_list = ratings_matrix.columns.tolist()\n",
    "    \n",
    "    # 한줄 for + if문으로 안먹은 레시피 리스트 생성\n",
    "    uneat_list = [ recipe for recipe in recipe_list if recipe in uneat_recipe_list]\n",
    "    \n",
    "    return uneat_list\n",
    "\n",
    "\n",
    "# 먹지 않은 레시피 중 예측 높은 순서로 시리즈 반환\n",
    "def recomm_recipe_by_userid(pred_df, userId, uneat_list, top_n=10):    \n",
    "    recomm_recipe = pred_df.loc[userId, uneat_list].sort_values(ascending=False)[:top_n]\n",
    "    \n",
    "    return recomm_recipe"
   ]
  },
  {
   "cell_type": "code",
   "execution_count": 45,
   "id": "48f045d2",
   "metadata": {},
   "outputs": [
    {
     "data": {
      "text/html": [
       "<div>\n",
       "<style scoped>\n",
       "    .dataframe tbody tr th:only-of-type {\n",
       "        vertical-align: middle;\n",
       "    }\n",
       "\n",
       "    .dataframe tbody tr th {\n",
       "        vertical-align: top;\n",
       "    }\n",
       "\n",
       "    .dataframe thead th {\n",
       "        text-align: right;\n",
       "    }\n",
       "</style>\n",
       "<table border=\"1\" class=\"dataframe\">\n",
       "  <thead>\n",
       "    <tr style=\"text-align: right;\">\n",
       "      <th></th>\n",
       "      <th>pred_score</th>\n",
       "    </tr>\n",
       "    <tr>\n",
       "      <th>recipe_id</th>\n",
       "      <th></th>\n",
       "    </tr>\n",
       "  </thead>\n",
       "  <tbody>\n",
       "    <tr>\n",
       "      <th>362</th>\n",
       "      <td>0.748457</td>\n",
       "    </tr>\n",
       "    <tr>\n",
       "      <th>4</th>\n",
       "      <td>0.694542</td>\n",
       "    </tr>\n",
       "    <tr>\n",
       "      <th>469</th>\n",
       "      <td>0.491581</td>\n",
       "    </tr>\n",
       "    <tr>\n",
       "      <th>272</th>\n",
       "      <td>0.491581</td>\n",
       "    </tr>\n",
       "    <tr>\n",
       "      <th>231</th>\n",
       "      <td>0.490856</td>\n",
       "    </tr>\n",
       "  </tbody>\n",
       "</table>\n",
       "</div>"
      ],
      "text/plain": [
       "           pred_score\n",
       "recipe_id            \n",
       "362          0.748457\n",
       "4            0.694542\n",
       "469          0.491581\n",
       "272          0.491581\n",
       "231          0.490856"
      ]
     },
     "execution_count": 45,
     "metadata": {},
     "output_type": "execute_result"
    }
   ],
   "source": [
    "# 아직 먹지 않은 레시피 리스트\n",
    "uneat_list = get_uneat_recipe(rating_matrix, 'chs')\n",
    "\n",
    "# 아이템 기반의 최근접 이웃 협업 필터링으로 레시피 추천\n",
    "recomm_recipe = recomm_recipe_by_userid(ratings_pred_matrix, 'chs', uneat_list, top_n=5)\n",
    "\n",
    "# 데이터 프레임 생성\n",
    "recomm_recipe = pd.DataFrame(data=recomm_recipe.values, index=recomm_recipe.index, columns=['pred_score'])\n",
    "recomm_recipe"
   ]
  },
  {
   "cell_type": "code",
   "execution_count": 37,
   "id": "cd350a49",
   "metadata": {},
   "outputs": [],
   "source": [
    "def recommend(input):\n",
    "    uneat_list = get_uneat_recipe(rating_matrix, input)\n",
    "\n",
    "    # 아이템 기반의 최근접 이웃 협업 필터링으로 레시피 추천\n",
    "    recomm_recipe = recomm_recipe_by_userid(ratings_pred_matrix, input, uneat_list, top_n=10)\n",
    "\n",
    "    # 데이터 프레임 생성\n",
    "    recomm_recipe = dict(data=recomm_recipe.values.tolist(), index=recomm_recipe.index.tolist(), columns=['pred_score'])\n",
    "    return recomm_recipe"
   ]
  },
  {
   "cell_type": "code",
   "execution_count": 53,
   "id": "51a62880",
   "metadata": {},
   "outputs": [
    {
     "name": "stdout",
     "output_type": "stream",
     "text": [
      "검색할 아이디 jyp\n"
     ]
    }
   ],
   "source": [
    "s = input('검색할 아이디 ')\n",
    "temp1= recommend(s)"
   ]
  },
  {
   "cell_type": "code",
   "execution_count": 54,
   "id": "54d94e2e",
   "metadata": {},
   "outputs": [
    {
     "data": {
      "text/plain": [
       "[134, 56, 361, 362, 495, 74, 304, 91, 481, 323]"
      ]
     },
     "execution_count": 54,
     "metadata": {},
     "output_type": "execute_result"
    }
   ],
   "source": [
    "temp1['index']"
   ]
  },
  {
   "cell_type": "markdown",
   "id": "159cab32",
   "metadata": {},
   "source": [
    "# Flask Server Setting "
   ]
  },
  {
   "cell_type": "code",
   "execution_count": 55,
   "id": "e16d3774",
   "metadata": {},
   "outputs": [],
   "source": [
    "import cx_Oracle\n",
    "from flask import Flask, jsonify,request\n",
    "import json\n",
    "from flask_cors import CORS"
   ]
  },
  {
   "cell_type": "code",
   "execution_count": null,
   "id": "799d0597",
   "metadata": {
    "scrolled": true
   },
   "outputs": [
    {
     "name": "stdout",
     "output_type": "stream",
     "text": [
      " * Serving Flask app \"__main__\" (lazy loading)\n",
      " * Environment: production\n",
      "\u001b[31m   WARNING: This is a development server. Do not use it in a production deployment.\u001b[0m\n",
      "\u001b[2m   Use a production WSGI server instead.\u001b[0m\n",
      " * Debug mode: off\n"
     ]
    },
    {
     "name": "stderr",
     "output_type": "stream",
     "text": [
      " * Running on all addresses.\n",
      "   WARNING: This is a development server. Do not use it in a production deployment.\n",
      " * Running on http://172.30.1.32:8081/ (Press CTRL+C to quit)\n",
      "[2022-06-18 10:30:04,035] ERROR in app: Exception on / [GET]\n",
      "Traceback (most recent call last):\n",
      "  File \"C:\\ProgramData\\Anaconda3\\lib\\site-packages\\pandas\\core\\indexes\\base.py\", line 3361, in get_loc\n",
      "    return self._engine.get_loc(casted_key)\n",
      "  File \"pandas\\_libs\\index.pyx\", line 76, in pandas._libs.index.IndexEngine.get_loc\n",
      "  File \"pandas\\_libs\\index.pyx\", line 108, in pandas._libs.index.IndexEngine.get_loc\n",
      "  File \"pandas\\_libs\\hashtable_class_helper.pxi\", line 5198, in pandas._libs.hashtable.PyObjectHashTable.get_item\n",
      "  File \"pandas\\_libs\\hashtable_class_helper.pxi\", line 5206, in pandas._libs.hashtable.PyObjectHashTable.get_item\n",
      "KeyError: None\n",
      "\n",
      "The above exception was the direct cause of the following exception:\n",
      "\n",
      "Traceback (most recent call last):\n",
      "  File \"C:\\ProgramData\\Anaconda3\\lib\\site-packages\\flask\\app.py\", line 2447, in wsgi_app\n",
      "    response = self.full_dispatch_request()\n",
      "  File \"C:\\ProgramData\\Anaconda3\\lib\\site-packages\\flask\\app.py\", line 1952, in full_dispatch_request\n",
      "    rv = self.handle_user_exception(e)\n",
      "  File \"C:\\ProgramData\\Anaconda3\\lib\\site-packages\\flask_cors\\extension.py\", line 165, in wrapped_function\n",
      "    return cors_after_request(app.make_response(f(*args, **kwargs)))\n",
      "  File \"C:\\ProgramData\\Anaconda3\\lib\\site-packages\\flask\\app.py\", line 1821, in handle_user_exception\n",
      "    reraise(exc_type, exc_value, tb)\n",
      "  File \"C:\\ProgramData\\Anaconda3\\lib\\site-packages\\flask\\_compat.py\", line 39, in reraise\n",
      "    raise value\n",
      "  File \"C:\\ProgramData\\Anaconda3\\lib\\site-packages\\flask\\app.py\", line 1950, in full_dispatch_request\n",
      "    rv = self.dispatch_request()\n",
      "  File \"C:\\ProgramData\\Anaconda3\\lib\\site-packages\\flask\\app.py\", line 1936, in dispatch_request\n",
      "    return self.view_functions[rule.endpoint](**req.view_args)\n",
      "  File \"C:\\Users\\GITCT\\AppData\\Local\\Temp/ipykernel_20508/2891064983.py\", line 7, in hello\n",
      "    temp = recommend(input_id)\n",
      "  File \"C:\\Users\\GITCT\\AppData\\Local\\Temp/ipykernel_20508/785170890.py\", line 2, in recommend\n",
      "    uneat_list = get_uneat_recipe(rating_matrix, input)\n",
      "  File \"C:\\Users\\GITCT\\AppData\\Local\\Temp/ipykernel_20508/2890887030.py\", line 5, in get_uneat_recipe\n",
      "    user_rating = ratings_matrix.loc[userId,:]\n",
      "  File \"C:\\ProgramData\\Anaconda3\\lib\\site-packages\\pandas\\core\\indexing.py\", line 925, in __getitem__\n",
      "    return self._getitem_tuple(key)\n",
      "  File \"C:\\ProgramData\\Anaconda3\\lib\\site-packages\\pandas\\core\\indexing.py\", line 1100, in _getitem_tuple\n",
      "    return self._getitem_lowerdim(tup)\n",
      "  File \"C:\\ProgramData\\Anaconda3\\lib\\site-packages\\pandas\\core\\indexing.py\", line 838, in _getitem_lowerdim\n",
      "    section = self._getitem_axis(key, axis=i)\n",
      "  File \"C:\\ProgramData\\Anaconda3\\lib\\site-packages\\pandas\\core\\indexing.py\", line 1164, in _getitem_axis\n",
      "    return self._get_label(key, axis=axis)\n",
      "  File \"C:\\ProgramData\\Anaconda3\\lib\\site-packages\\pandas\\core\\indexing.py\", line 1113, in _get_label\n",
      "    return self.obj.xs(label, axis=axis)\n",
      "  File \"C:\\ProgramData\\Anaconda3\\lib\\site-packages\\pandas\\core\\generic.py\", line 3776, in xs\n",
      "    loc = index.get_loc(key)\n",
      "  File \"C:\\ProgramData\\Anaconda3\\lib\\site-packages\\pandas\\core\\indexes\\base.py\", line 3363, in get_loc\n",
      "    raise KeyError(key) from err\n",
      "KeyError: None\n",
      "172.30.1.32 - - [18/Jun/2022 10:30:04] \"GET / HTTP/1.1\" 500 -\n"
     ]
    },
    {
     "name": "stdout",
     "output_type": "stream",
     "text": [
      "None\n"
     ]
    },
    {
     "name": "stderr",
     "output_type": "stream",
     "text": [
      "172.30.1.18 - - [18/Jun/2022 10:31:47] \"GET /?id=jj HTTP/1.1\" 200 -\n"
     ]
    },
    {
     "name": "stdout",
     "output_type": "stream",
     "text": [
      "jj\n"
     ]
    },
    {
     "name": "stderr",
     "output_type": "stream",
     "text": [
      "[2022-06-18 10:32:40,026] ERROR in app: Exception on / [GET]\n",
      "Traceback (most recent call last):\n",
      "  File \"C:\\ProgramData\\Anaconda3\\lib\\site-packages\\pandas\\core\\indexes\\base.py\", line 3361, in get_loc\n",
      "    return self._engine.get_loc(casted_key)\n",
      "  File \"pandas\\_libs\\index.pyx\", line 76, in pandas._libs.index.IndexEngine.get_loc\n",
      "  File \"pandas\\_libs\\index.pyx\", line 108, in pandas._libs.index.IndexEngine.get_loc\n",
      "  File \"pandas\\_libs\\hashtable_class_helper.pxi\", line 5198, in pandas._libs.hashtable.PyObjectHashTable.get_item\n",
      "  File \"pandas\\_libs\\hashtable_class_helper.pxi\", line 5206, in pandas._libs.hashtable.PyObjectHashTable.get_item\n",
      "KeyError: None\n",
      "\n",
      "The above exception was the direct cause of the following exception:\n",
      "\n",
      "Traceback (most recent call last):\n",
      "  File \"C:\\ProgramData\\Anaconda3\\lib\\site-packages\\flask\\app.py\", line 2447, in wsgi_app\n",
      "    response = self.full_dispatch_request()\n",
      "  File \"C:\\ProgramData\\Anaconda3\\lib\\site-packages\\flask\\app.py\", line 1952, in full_dispatch_request\n",
      "    rv = self.handle_user_exception(e)\n",
      "  File \"C:\\ProgramData\\Anaconda3\\lib\\site-packages\\flask_cors\\extension.py\", line 165, in wrapped_function\n",
      "    return cors_after_request(app.make_response(f(*args, **kwargs)))\n",
      "  File \"C:\\ProgramData\\Anaconda3\\lib\\site-packages\\flask\\app.py\", line 1821, in handle_user_exception\n",
      "    reraise(exc_type, exc_value, tb)\n",
      "  File \"C:\\ProgramData\\Anaconda3\\lib\\site-packages\\flask\\_compat.py\", line 39, in reraise\n",
      "    raise value\n",
      "  File \"C:\\ProgramData\\Anaconda3\\lib\\site-packages\\flask\\app.py\", line 1950, in full_dispatch_request\n",
      "    rv = self.dispatch_request()\n",
      "  File \"C:\\ProgramData\\Anaconda3\\lib\\site-packages\\flask\\app.py\", line 1936, in dispatch_request\n",
      "    return self.view_functions[rule.endpoint](**req.view_args)\n",
      "  File \"C:\\Users\\GITCT\\AppData\\Local\\Temp/ipykernel_20508/2891064983.py\", line 7, in hello\n",
      "    temp = recommend(input_id)\n",
      "  File \"C:\\Users\\GITCT\\AppData\\Local\\Temp/ipykernel_20508/785170890.py\", line 2, in recommend\n",
      "    uneat_list = get_uneat_recipe(rating_matrix, input)\n",
      "  File \"C:\\Users\\GITCT\\AppData\\Local\\Temp/ipykernel_20508/2890887030.py\", line 5, in get_uneat_recipe\n",
      "    user_rating = ratings_matrix.loc[userId,:]\n",
      "  File \"C:\\ProgramData\\Anaconda3\\lib\\site-packages\\pandas\\core\\indexing.py\", line 925, in __getitem__\n",
      "    return self._getitem_tuple(key)\n",
      "  File \"C:\\ProgramData\\Anaconda3\\lib\\site-packages\\pandas\\core\\indexing.py\", line 1100, in _getitem_tuple\n",
      "    return self._getitem_lowerdim(tup)\n",
      "  File \"C:\\ProgramData\\Anaconda3\\lib\\site-packages\\pandas\\core\\indexing.py\", line 838, in _getitem_lowerdim\n",
      "    section = self._getitem_axis(key, axis=i)\n",
      "  File \"C:\\ProgramData\\Anaconda3\\lib\\site-packages\\pandas\\core\\indexing.py\", line 1164, in _getitem_axis\n",
      "    return self._get_label(key, axis=axis)\n",
      "  File \"C:\\ProgramData\\Anaconda3\\lib\\site-packages\\pandas\\core\\indexing.py\", line 1113, in _get_label\n",
      "    return self.obj.xs(label, axis=axis)\n",
      "  File \"C:\\ProgramData\\Anaconda3\\lib\\site-packages\\pandas\\core\\generic.py\", line 3776, in xs\n",
      "    loc = index.get_loc(key)\n",
      "  File \"C:\\ProgramData\\Anaconda3\\lib\\site-packages\\pandas\\core\\indexes\\base.py\", line 3363, in get_loc\n",
      "    raise KeyError(key) from err\n",
      "KeyError: None\n",
      "172.30.1.32 - - [18/Jun/2022 10:32:40] \"GET / HTTP/1.1\" 500 -\n"
     ]
    },
    {
     "name": "stdout",
     "output_type": "stream",
     "text": [
      "None\n"
     ]
    },
    {
     "name": "stderr",
     "output_type": "stream",
     "text": [
      "172.30.1.18 - - [18/Jun/2022 10:32:49] \"GET /?id=jj HTTP/1.1\" 200 -\n"
     ]
    },
    {
     "name": "stdout",
     "output_type": "stream",
     "text": [
      "jj\n"
     ]
    },
    {
     "name": "stderr",
     "output_type": "stream",
     "text": [
      "[2022-06-18 10:33:02,442] ERROR in app: Exception on / [GET]\n",
      "Traceback (most recent call last):\n",
      "  File \"C:\\ProgramData\\Anaconda3\\lib\\site-packages\\pandas\\core\\indexes\\base.py\", line 3361, in get_loc\n",
      "    return self._engine.get_loc(casted_key)\n",
      "  File \"pandas\\_libs\\index.pyx\", line 76, in pandas._libs.index.IndexEngine.get_loc\n",
      "  File \"pandas\\_libs\\index.pyx\", line 108, in pandas._libs.index.IndexEngine.get_loc\n",
      "  File \"pandas\\_libs\\hashtable_class_helper.pxi\", line 5198, in pandas._libs.hashtable.PyObjectHashTable.get_item\n",
      "  File \"pandas\\_libs\\hashtable_class_helper.pxi\", line 5206, in pandas._libs.hashtable.PyObjectHashTable.get_item\n",
      "KeyError: None\n",
      "\n",
      "The above exception was the direct cause of the following exception:\n",
      "\n",
      "Traceback (most recent call last):\n",
      "  File \"C:\\ProgramData\\Anaconda3\\lib\\site-packages\\flask\\app.py\", line 2447, in wsgi_app\n",
      "    response = self.full_dispatch_request()\n",
      "  File \"C:\\ProgramData\\Anaconda3\\lib\\site-packages\\flask\\app.py\", line 1952, in full_dispatch_request\n",
      "    rv = self.handle_user_exception(e)\n",
      "  File \"C:\\ProgramData\\Anaconda3\\lib\\site-packages\\flask_cors\\extension.py\", line 165, in wrapped_function\n",
      "    return cors_after_request(app.make_response(f(*args, **kwargs)))\n",
      "  File \"C:\\ProgramData\\Anaconda3\\lib\\site-packages\\flask\\app.py\", line 1821, in handle_user_exception\n",
      "    reraise(exc_type, exc_value, tb)\n",
      "  File \"C:\\ProgramData\\Anaconda3\\lib\\site-packages\\flask\\_compat.py\", line 39, in reraise\n",
      "    raise value\n",
      "  File \"C:\\ProgramData\\Anaconda3\\lib\\site-packages\\flask\\app.py\", line 1950, in full_dispatch_request\n",
      "    rv = self.dispatch_request()\n",
      "  File \"C:\\ProgramData\\Anaconda3\\lib\\site-packages\\flask\\app.py\", line 1936, in dispatch_request\n",
      "    return self.view_functions[rule.endpoint](**req.view_args)\n",
      "  File \"C:\\Users\\GITCT\\AppData\\Local\\Temp/ipykernel_20508/2891064983.py\", line 7, in hello\n",
      "    temp = recommend(input_id)\n",
      "  File \"C:\\Users\\GITCT\\AppData\\Local\\Temp/ipykernel_20508/785170890.py\", line 2, in recommend\n",
      "    uneat_list = get_uneat_recipe(rating_matrix, input)\n",
      "  File \"C:\\Users\\GITCT\\AppData\\Local\\Temp/ipykernel_20508/2890887030.py\", line 5, in get_uneat_recipe\n",
      "    user_rating = ratings_matrix.loc[userId,:]\n",
      "  File \"C:\\ProgramData\\Anaconda3\\lib\\site-packages\\pandas\\core\\indexing.py\", line 925, in __getitem__\n",
      "    return self._getitem_tuple(key)\n",
      "  File \"C:\\ProgramData\\Anaconda3\\lib\\site-packages\\pandas\\core\\indexing.py\", line 1100, in _getitem_tuple\n",
      "    return self._getitem_lowerdim(tup)\n",
      "  File \"C:\\ProgramData\\Anaconda3\\lib\\site-packages\\pandas\\core\\indexing.py\", line 838, in _getitem_lowerdim\n",
      "    section = self._getitem_axis(key, axis=i)\n",
      "  File \"C:\\ProgramData\\Anaconda3\\lib\\site-packages\\pandas\\core\\indexing.py\", line 1164, in _getitem_axis\n",
      "    return self._get_label(key, axis=axis)\n",
      "  File \"C:\\ProgramData\\Anaconda3\\lib\\site-packages\\pandas\\core\\indexing.py\", line 1113, in _get_label\n",
      "    return self.obj.xs(label, axis=axis)\n",
      "  File \"C:\\ProgramData\\Anaconda3\\lib\\site-packages\\pandas\\core\\generic.py\", line 3776, in xs\n",
      "    loc = index.get_loc(key)\n",
      "  File \"C:\\ProgramData\\Anaconda3\\lib\\site-packages\\pandas\\core\\indexes\\base.py\", line 3363, in get_loc\n",
      "    raise KeyError(key) from err\n",
      "KeyError: None\n",
      "172.30.1.32 - - [18/Jun/2022 10:33:02] \"GET / HTTP/1.1\" 500 -\n"
     ]
    },
    {
     "name": "stdout",
     "output_type": "stream",
     "text": [
      "None\n"
     ]
    },
    {
     "name": "stderr",
     "output_type": "stream",
     "text": [
      "[2022-06-18 10:33:27,968] ERROR in app: Exception on / [GET]\n",
      "Traceback (most recent call last):\n",
      "  File \"C:\\ProgramData\\Anaconda3\\lib\\site-packages\\pandas\\core\\indexes\\base.py\", line 3361, in get_loc\n",
      "    return self._engine.get_loc(casted_key)\n",
      "  File \"pandas\\_libs\\index.pyx\", line 76, in pandas._libs.index.IndexEngine.get_loc\n",
      "  File \"pandas\\_libs\\index.pyx\", line 108, in pandas._libs.index.IndexEngine.get_loc\n",
      "  File \"pandas\\_libs\\hashtable_class_helper.pxi\", line 5198, in pandas._libs.hashtable.PyObjectHashTable.get_item\n",
      "  File \"pandas\\_libs\\hashtable_class_helper.pxi\", line 5206, in pandas._libs.hashtable.PyObjectHashTable.get_item\n",
      "KeyError: \"'jyp'\"\n",
      "\n",
      "The above exception was the direct cause of the following exception:\n",
      "\n",
      "Traceback (most recent call last):\n",
      "  File \"C:\\ProgramData\\Anaconda3\\lib\\site-packages\\flask\\app.py\", line 2447, in wsgi_app\n",
      "    response = self.full_dispatch_request()\n",
      "  File \"C:\\ProgramData\\Anaconda3\\lib\\site-packages\\flask\\app.py\", line 1952, in full_dispatch_request\n",
      "    rv = self.handle_user_exception(e)\n",
      "  File \"C:\\ProgramData\\Anaconda3\\lib\\site-packages\\flask_cors\\extension.py\", line 165, in wrapped_function\n",
      "    return cors_after_request(app.make_response(f(*args, **kwargs)))\n",
      "  File \"C:\\ProgramData\\Anaconda3\\lib\\site-packages\\flask\\app.py\", line 1821, in handle_user_exception\n",
      "    reraise(exc_type, exc_value, tb)\n",
      "  File \"C:\\ProgramData\\Anaconda3\\lib\\site-packages\\flask\\_compat.py\", line 39, in reraise\n",
      "    raise value\n",
      "  File \"C:\\ProgramData\\Anaconda3\\lib\\site-packages\\flask\\app.py\", line 1950, in full_dispatch_request\n",
      "    rv = self.dispatch_request()\n",
      "  File \"C:\\ProgramData\\Anaconda3\\lib\\site-packages\\flask\\app.py\", line 1936, in dispatch_request\n",
      "    return self.view_functions[rule.endpoint](**req.view_args)\n",
      "  File \"C:\\Users\\GITCT\\AppData\\Local\\Temp/ipykernel_20508/2891064983.py\", line 7, in hello\n",
      "    temp = recommend(input_id)\n",
      "  File \"C:\\Users\\GITCT\\AppData\\Local\\Temp/ipykernel_20508/785170890.py\", line 2, in recommend\n",
      "    uneat_list = get_uneat_recipe(rating_matrix, input)\n",
      "  File \"C:\\Users\\GITCT\\AppData\\Local\\Temp/ipykernel_20508/2890887030.py\", line 5, in get_uneat_recipe\n",
      "    user_rating = ratings_matrix.loc[userId,:]\n",
      "  File \"C:\\ProgramData\\Anaconda3\\lib\\site-packages\\pandas\\core\\indexing.py\", line 925, in __getitem__\n",
      "    return self._getitem_tuple(key)\n",
      "  File \"C:\\ProgramData\\Anaconda3\\lib\\site-packages\\pandas\\core\\indexing.py\", line 1100, in _getitem_tuple\n",
      "    return self._getitem_lowerdim(tup)\n",
      "  File \"C:\\ProgramData\\Anaconda3\\lib\\site-packages\\pandas\\core\\indexing.py\", line 838, in _getitem_lowerdim\n",
      "    section = self._getitem_axis(key, axis=i)\n",
      "  File \"C:\\ProgramData\\Anaconda3\\lib\\site-packages\\pandas\\core\\indexing.py\", line 1164, in _getitem_axis\n",
      "    return self._get_label(key, axis=axis)\n",
      "  File \"C:\\ProgramData\\Anaconda3\\lib\\site-packages\\pandas\\core\\indexing.py\", line 1113, in _get_label\n",
      "    return self.obj.xs(label, axis=axis)\n",
      "  File \"C:\\ProgramData\\Anaconda3\\lib\\site-packages\\pandas\\core\\generic.py\", line 3776, in xs\n",
      "    loc = index.get_loc(key)\n",
      "  File \"C:\\ProgramData\\Anaconda3\\lib\\site-packages\\pandas\\core\\indexes\\base.py\", line 3363, in get_loc\n",
      "    raise KeyError(key) from err\n",
      "KeyError: \"'jyp'\"\n",
      "172.30.1.32 - - [18/Jun/2022 10:33:27] \"GET /?id=%27jyp%27 HTTP/1.1\" 500 -\n"
     ]
    },
    {
     "name": "stdout",
     "output_type": "stream",
     "text": [
      "'jyp'\n"
     ]
    },
    {
     "name": "stderr",
     "output_type": "stream",
     "text": [
      "172.30.1.57 - - [18/Jun/2022 10:34:01] \"GET /?id=jyp HTTP/1.1\" 200 -\n"
     ]
    },
    {
     "name": "stdout",
     "output_type": "stream",
     "text": [
      "jyp\n"
     ]
    },
    {
     "name": "stderr",
     "output_type": "stream",
     "text": [
      "172.30.1.18 - - [18/Jun/2022 10:36:26] \"GET /?id=jj HTTP/1.1\" 200 -\n"
     ]
    },
    {
     "name": "stdout",
     "output_type": "stream",
     "text": [
      "jj\n"
     ]
    },
    {
     "name": "stderr",
     "output_type": "stream",
     "text": [
      "172.30.1.32 - - [18/Jun/2022 10:39:14] \"GET /?id=chs HTTP/1.1\" 200 -\n"
     ]
    },
    {
     "name": "stdout",
     "output_type": "stream",
     "text": [
      "chs\n"
     ]
    },
    {
     "name": "stderr",
     "output_type": "stream",
     "text": [
      "172.30.1.32 - - [18/Jun/2022 10:39:52] \"GET /?id=chs HTTP/1.1\" 200 -\n"
     ]
    },
    {
     "name": "stdout",
     "output_type": "stream",
     "text": [
      "chs\n"
     ]
    },
    {
     "name": "stderr",
     "output_type": "stream",
     "text": [
      "172.30.1.6 - - [18/Jun/2022 10:40:29] \"GET /?id=kim HTTP/1.1\" 200 -\n"
     ]
    },
    {
     "name": "stdout",
     "output_type": "stream",
     "text": [
      "kim\n"
     ]
    },
    {
     "name": "stderr",
     "output_type": "stream",
     "text": [
      "172.30.1.1 - - [18/Jun/2022 10:42:05] \"GET /?id=do HTTP/1.1\" 200 -\n"
     ]
    },
    {
     "name": "stdout",
     "output_type": "stream",
     "text": [
      "do\n"
     ]
    },
    {
     "name": "stderr",
     "output_type": "stream",
     "text": [
      "172.30.1.1 - - [18/Jun/2022 10:42:10] \"GET /?id=do HTTP/1.1\" 200 -\n"
     ]
    },
    {
     "name": "stdout",
     "output_type": "stream",
     "text": [
      "do\n"
     ]
    },
    {
     "name": "stderr",
     "output_type": "stream",
     "text": [
      "172.30.1.1 - - [18/Jun/2022 10:42:47] \"GET /?id=do HTTP/1.1\" 200 -\n"
     ]
    },
    {
     "name": "stdout",
     "output_type": "stream",
     "text": [
      "do\n"
     ]
    },
    {
     "name": "stderr",
     "output_type": "stream",
     "text": [
      "172.30.1.6 - - [18/Jun/2022 10:42:50] \"GET /?id=kim HTTP/1.1\" 200 -\n"
     ]
    },
    {
     "name": "stdout",
     "output_type": "stream",
     "text": [
      "kim\n"
     ]
    },
    {
     "name": "stderr",
     "output_type": "stream",
     "text": [
      "172.30.1.6 - - [18/Jun/2022 10:44:36] \"GET /?id=kim HTTP/1.1\" 200 -\n"
     ]
    },
    {
     "name": "stdout",
     "output_type": "stream",
     "text": [
      "kim\n"
     ]
    },
    {
     "name": "stderr",
     "output_type": "stream",
     "text": [
      "172.30.1.6 - - [18/Jun/2022 10:48:32] \"GET /?id=kim HTTP/1.1\" 200 -\n"
     ]
    },
    {
     "name": "stdout",
     "output_type": "stream",
     "text": [
      "kim\n"
     ]
    },
    {
     "name": "stderr",
     "output_type": "stream",
     "text": [
      "172.30.1.18 - - [18/Jun/2022 11:01:01] \"GET /?id=jj HTTP/1.1\" 200 -\n"
     ]
    },
    {
     "name": "stdout",
     "output_type": "stream",
     "text": [
      "jj\n"
     ]
    },
    {
     "name": "stderr",
     "output_type": "stream",
     "text": [
      "172.30.1.18 - - [18/Jun/2022 11:02:29] \"GET /?id=jj HTTP/1.1\" 200 -\n"
     ]
    },
    {
     "name": "stdout",
     "output_type": "stream",
     "text": [
      "jj\n"
     ]
    },
    {
     "name": "stderr",
     "output_type": "stream",
     "text": [
      "172.30.1.18 - - [18/Jun/2022 11:13:19] \"GET /?id=jj HTTP/1.1\" 200 -\n"
     ]
    },
    {
     "name": "stdout",
     "output_type": "stream",
     "text": [
      "jj\n"
     ]
    },
    {
     "name": "stderr",
     "output_type": "stream",
     "text": [
      "172.30.1.18 - - [18/Jun/2022 11:17:24] \"GET /?id=jj HTTP/1.1\" 200 -\n"
     ]
    },
    {
     "name": "stdout",
     "output_type": "stream",
     "text": [
      "jj\n"
     ]
    },
    {
     "name": "stderr",
     "output_type": "stream",
     "text": [
      "172.30.1.18 - - [18/Jun/2022 11:17:26] \"GET /?id=jj HTTP/1.1\" 200 -\n"
     ]
    },
    {
     "name": "stdout",
     "output_type": "stream",
     "text": [
      "jj\n"
     ]
    },
    {
     "name": "stderr",
     "output_type": "stream",
     "text": [
      "172.30.1.18 - - [18/Jun/2022 11:17:30] \"GET /?id=jj HTTP/1.1\" 200 -\n"
     ]
    },
    {
     "name": "stdout",
     "output_type": "stream",
     "text": [
      "jj\n"
     ]
    },
    {
     "name": "stderr",
     "output_type": "stream",
     "text": [
      "172.30.1.18 - - [18/Jun/2022 11:17:32] \"GET /?id=jj HTTP/1.1\" 200 -\n"
     ]
    },
    {
     "name": "stdout",
     "output_type": "stream",
     "text": [
      "jj\n"
     ]
    },
    {
     "name": "stderr",
     "output_type": "stream",
     "text": [
      "172.30.1.18 - - [18/Jun/2022 11:18:00] \"GET /?id=jj HTTP/1.1\" 200 -\n"
     ]
    },
    {
     "name": "stdout",
     "output_type": "stream",
     "text": [
      "jj\n"
     ]
    },
    {
     "name": "stderr",
     "output_type": "stream",
     "text": [
      "172.30.1.18 - - [18/Jun/2022 11:18:06] \"GET /?id=jj HTTP/1.1\" 200 -\n"
     ]
    },
    {
     "name": "stdout",
     "output_type": "stream",
     "text": [
      "jj\n"
     ]
    },
    {
     "name": "stderr",
     "output_type": "stream",
     "text": [
      "172.30.1.18 - - [18/Jun/2022 11:18:07] \"GET /?id=jj HTTP/1.1\" 200 -\n"
     ]
    },
    {
     "name": "stdout",
     "output_type": "stream",
     "text": [
      "jj\n"
     ]
    },
    {
     "name": "stderr",
     "output_type": "stream",
     "text": [
      "172.30.1.18 - - [18/Jun/2022 11:18:29] \"GET /?id=jj HTTP/1.1\" 200 -\n"
     ]
    },
    {
     "name": "stdout",
     "output_type": "stream",
     "text": [
      "jj\n"
     ]
    },
    {
     "name": "stderr",
     "output_type": "stream",
     "text": [
      "172.30.1.18 - - [18/Jun/2022 11:21:01] \"GET /?id=jj HTTP/1.1\" 200 -\n"
     ]
    },
    {
     "name": "stdout",
     "output_type": "stream",
     "text": [
      "jj\n"
     ]
    },
    {
     "name": "stderr",
     "output_type": "stream",
     "text": [
      "172.30.1.18 - - [18/Jun/2022 11:26:32] \"GET /?id=jj HTTP/1.1\" 200 -\n"
     ]
    },
    {
     "name": "stdout",
     "output_type": "stream",
     "text": [
      "jj\n"
     ]
    },
    {
     "name": "stderr",
     "output_type": "stream",
     "text": [
      "172.30.1.18 - - [18/Jun/2022 11:36:08] \"GET /?id=jj HTTP/1.1\" 200 -\n"
     ]
    },
    {
     "name": "stdout",
     "output_type": "stream",
     "text": [
      "jj\n"
     ]
    },
    {
     "name": "stderr",
     "output_type": "stream",
     "text": [
      "172.30.1.18 - - [18/Jun/2022 11:36:29] \"GET /?id=jj HTTP/1.1\" 200 -\n"
     ]
    },
    {
     "name": "stdout",
     "output_type": "stream",
     "text": [
      "jj\n"
     ]
    },
    {
     "name": "stderr",
     "output_type": "stream",
     "text": [
      "172.30.1.18 - - [18/Jun/2022 11:39:45] \"GET /?id=jj HTTP/1.1\" 200 -\n"
     ]
    },
    {
     "name": "stdout",
     "output_type": "stream",
     "text": [
      "jj\n"
     ]
    },
    {
     "name": "stderr",
     "output_type": "stream",
     "text": [
      "172.30.1.18 - - [18/Jun/2022 11:40:08] \"GET /?id=jj HTTP/1.1\" 200 -\n"
     ]
    },
    {
     "name": "stdout",
     "output_type": "stream",
     "text": [
      "jj\n"
     ]
    },
    {
     "name": "stderr",
     "output_type": "stream",
     "text": [
      "172.30.1.18 - - [18/Jun/2022 11:41:11] \"GET /?id=jj HTTP/1.1\" 200 -\n"
     ]
    },
    {
     "name": "stdout",
     "output_type": "stream",
     "text": [
      "jj\n"
     ]
    },
    {
     "name": "stderr",
     "output_type": "stream",
     "text": [
      "172.30.1.18 - - [18/Jun/2022 11:41:37] \"GET /?id=jj HTTP/1.1\" 200 -\n"
     ]
    },
    {
     "name": "stdout",
     "output_type": "stream",
     "text": [
      "jj\n"
     ]
    },
    {
     "name": "stderr",
     "output_type": "stream",
     "text": [
      "172.30.1.18 - - [18/Jun/2022 11:42:52] \"GET /?id=jj HTTP/1.1\" 200 -\n"
     ]
    },
    {
     "name": "stdout",
     "output_type": "stream",
     "text": [
      "jj\n"
     ]
    },
    {
     "name": "stderr",
     "output_type": "stream",
     "text": [
      "172.30.1.18 - - [18/Jun/2022 11:42:54] \"GET /?id=jj HTTP/1.1\" 200 -\n"
     ]
    },
    {
     "name": "stdout",
     "output_type": "stream",
     "text": [
      "jj\n"
     ]
    },
    {
     "name": "stderr",
     "output_type": "stream",
     "text": [
      "172.30.1.18 - - [18/Jun/2022 11:42:56] \"GET /?id=jj HTTP/1.1\" 200 -\n"
     ]
    },
    {
     "name": "stdout",
     "output_type": "stream",
     "text": [
      "jj\n"
     ]
    },
    {
     "name": "stderr",
     "output_type": "stream",
     "text": [
      "172.30.1.18 - - [18/Jun/2022 11:46:37] \"GET /?id=jj HTTP/1.1\" 200 -\n"
     ]
    },
    {
     "name": "stdout",
     "output_type": "stream",
     "text": [
      "jj\n"
     ]
    },
    {
     "name": "stderr",
     "output_type": "stream",
     "text": [
      "172.30.1.18 - - [18/Jun/2022 11:47:19] \"GET /?id=jj HTTP/1.1\" 200 -\n"
     ]
    },
    {
     "name": "stdout",
     "output_type": "stream",
     "text": [
      "jj\n"
     ]
    },
    {
     "name": "stderr",
     "output_type": "stream",
     "text": [
      "172.30.1.18 - - [18/Jun/2022 11:50:22] \"GET /?id=jj HTTP/1.1\" 200 -\n"
     ]
    },
    {
     "name": "stdout",
     "output_type": "stream",
     "text": [
      "jj\n"
     ]
    },
    {
     "name": "stderr",
     "output_type": "stream",
     "text": [
      "172.30.1.18 - - [18/Jun/2022 11:52:45] \"GET /?id=jj HTTP/1.1\" 200 -\n"
     ]
    },
    {
     "name": "stdout",
     "output_type": "stream",
     "text": [
      "jj\n"
     ]
    },
    {
     "name": "stderr",
     "output_type": "stream",
     "text": [
      "172.30.1.18 - - [18/Jun/2022 11:58:09] \"GET /?id=jj HTTP/1.1\" 200 -\n"
     ]
    },
    {
     "name": "stdout",
     "output_type": "stream",
     "text": [
      "jj\n"
     ]
    },
    {
     "name": "stderr",
     "output_type": "stream",
     "text": [
      "172.30.1.18 - - [18/Jun/2022 11:59:16] \"GET /?id=jj HTTP/1.1\" 200 -\n"
     ]
    },
    {
     "name": "stdout",
     "output_type": "stream",
     "text": [
      "jj\n"
     ]
    },
    {
     "name": "stderr",
     "output_type": "stream",
     "text": [
      "172.30.1.18 - - [18/Jun/2022 12:02:15] \"GET /?id=jj HTTP/1.1\" 200 -\n"
     ]
    },
    {
     "name": "stdout",
     "output_type": "stream",
     "text": [
      "jj\n"
     ]
    },
    {
     "name": "stderr",
     "output_type": "stream",
     "text": [
      "172.30.1.18 - - [18/Jun/2022 12:05:40] \"GET /?id=jj HTTP/1.1\" 200 -\n"
     ]
    },
    {
     "name": "stdout",
     "output_type": "stream",
     "text": [
      "jj\n"
     ]
    },
    {
     "name": "stderr",
     "output_type": "stream",
     "text": [
      "172.30.1.18 - - [18/Jun/2022 12:07:24] \"GET /?id=jj HTTP/1.1\" 200 -\n"
     ]
    },
    {
     "name": "stdout",
     "output_type": "stream",
     "text": [
      "jj\n"
     ]
    },
    {
     "name": "stderr",
     "output_type": "stream",
     "text": [
      "172.30.1.18 - - [18/Jun/2022 12:12:30] \"GET /?id=jj HTTP/1.1\" 200 -\n"
     ]
    },
    {
     "name": "stdout",
     "output_type": "stream",
     "text": [
      "jj\n"
     ]
    },
    {
     "name": "stderr",
     "output_type": "stream",
     "text": [
      "172.30.1.18 - - [18/Jun/2022 12:12:48] \"GET /?id=jj HTTP/1.1\" 200 -\n"
     ]
    },
    {
     "name": "stdout",
     "output_type": "stream",
     "text": [
      "jj\n"
     ]
    },
    {
     "name": "stderr",
     "output_type": "stream",
     "text": [
      "172.30.1.18 - - [18/Jun/2022 12:13:32] \"GET /?id=jj HTTP/1.1\" 200 -\n"
     ]
    },
    {
     "name": "stdout",
     "output_type": "stream",
     "text": [
      "jj\n"
     ]
    },
    {
     "name": "stderr",
     "output_type": "stream",
     "text": [
      "172.30.1.18 - - [18/Jun/2022 12:17:15] \"GET /?id=jj HTTP/1.1\" 200 -\n"
     ]
    },
    {
     "name": "stdout",
     "output_type": "stream",
     "text": [
      "jj\n"
     ]
    },
    {
     "name": "stderr",
     "output_type": "stream",
     "text": [
      "172.30.1.18 - - [18/Jun/2022 12:17:46] \"GET /?id=jj HTTP/1.1\" 200 -\n"
     ]
    },
    {
     "name": "stdout",
     "output_type": "stream",
     "text": [
      "jj\n"
     ]
    },
    {
     "name": "stderr",
     "output_type": "stream",
     "text": [
      "172.30.1.18 - - [18/Jun/2022 12:18:01] \"GET /?id=jj HTTP/1.1\" 200 -\n"
     ]
    },
    {
     "name": "stdout",
     "output_type": "stream",
     "text": [
      "jj\n"
     ]
    },
    {
     "name": "stderr",
     "output_type": "stream",
     "text": [
      "172.30.1.18 - - [18/Jun/2022 12:23:18] \"GET /?id=jj HTTP/1.1\" 200 -\n"
     ]
    },
    {
     "name": "stdout",
     "output_type": "stream",
     "text": [
      "jj\n"
     ]
    },
    {
     "name": "stderr",
     "output_type": "stream",
     "text": [
      "172.30.1.18 - - [18/Jun/2022 12:25:12] \"GET /?id=jj HTTP/1.1\" 200 -\n"
     ]
    },
    {
     "name": "stdout",
     "output_type": "stream",
     "text": [
      "jj\n"
     ]
    },
    {
     "name": "stderr",
     "output_type": "stream",
     "text": [
      "172.30.1.18 - - [18/Jun/2022 12:25:17] \"GET /?id=jj HTTP/1.1\" 200 -\n"
     ]
    },
    {
     "name": "stdout",
     "output_type": "stream",
     "text": [
      "jj\n"
     ]
    },
    {
     "name": "stderr",
     "output_type": "stream",
     "text": [
      "172.30.1.18 - - [18/Jun/2022 12:25:18] \"GET /?id=jj HTTP/1.1\" 200 -\n",
      "172.30.1.18 - - [18/Jun/2022 12:25:18] \"GET /?id=jj HTTP/1.1\" 200 -\n"
     ]
    },
    {
     "name": "stdout",
     "output_type": "stream",
     "text": [
      "jj\n",
      "jj\n"
     ]
    },
    {
     "name": "stderr",
     "output_type": "stream",
     "text": [
      "172.30.1.18 - - [18/Jun/2022 12:25:18] \"GET /?id=jj HTTP/1.1\" 200 -\n",
      "172.30.1.18 - - [18/Jun/2022 12:25:18] \"GET /?id=jj HTTP/1.1\" 200 -\n"
     ]
    },
    {
     "name": "stdout",
     "output_type": "stream",
     "text": [
      "jj\n",
      "jj\n"
     ]
    },
    {
     "name": "stderr",
     "output_type": "stream",
     "text": [
      "172.30.1.18 - - [18/Jun/2022 12:25:18] \"GET /?id=jj HTTP/1.1\" 200 -\n",
      "172.30.1.18 - - [18/Jun/2022 12:25:18] \"GET /?id=jj HTTP/1.1\" 200 -\n"
     ]
    },
    {
     "name": "stdout",
     "output_type": "stream",
     "text": [
      "jj\n",
      "jj\n"
     ]
    },
    {
     "name": "stderr",
     "output_type": "stream",
     "text": [
      "172.30.1.18 - - [18/Jun/2022 12:25:18] \"GET /?id=jj HTTP/1.1\" 200 -\n",
      "172.30.1.18 - - [18/Jun/2022 12:25:19] \"GET /?id=jj HTTP/1.1\" 200 -\n"
     ]
    },
    {
     "name": "stdout",
     "output_type": "stream",
     "text": [
      "jj\n",
      "jj\n"
     ]
    },
    {
     "name": "stderr",
     "output_type": "stream",
     "text": [
      "172.30.1.18 - - [18/Jun/2022 12:29:38] \"GET /?id=jj HTTP/1.1\" 200 -\n"
     ]
    },
    {
     "name": "stdout",
     "output_type": "stream",
     "text": [
      "jj\n"
     ]
    },
    {
     "name": "stderr",
     "output_type": "stream",
     "text": [
      "172.30.1.18 - - [18/Jun/2022 12:31:07] \"GET /?id=jj HTTP/1.1\" 200 -\n"
     ]
    },
    {
     "name": "stdout",
     "output_type": "stream",
     "text": [
      "jj\n"
     ]
    },
    {
     "name": "stderr",
     "output_type": "stream",
     "text": [
      "172.30.1.18 - - [18/Jun/2022 12:32:33] \"GET /?id=jj HTTP/1.1\" 200 -\n"
     ]
    },
    {
     "name": "stdout",
     "output_type": "stream",
     "text": [
      "jj\n"
     ]
    },
    {
     "name": "stderr",
     "output_type": "stream",
     "text": [
      "172.30.1.18 - - [18/Jun/2022 12:37:58] \"GET /?id=jj HTTP/1.1\" 200 -\n"
     ]
    },
    {
     "name": "stdout",
     "output_type": "stream",
     "text": [
      "jj\n"
     ]
    },
    {
     "name": "stderr",
     "output_type": "stream",
     "text": [
      "172.30.1.18 - - [18/Jun/2022 14:00:53] \"GET /?id=jj HTTP/1.1\" 200 -\n"
     ]
    },
    {
     "name": "stdout",
     "output_type": "stream",
     "text": [
      "jj\n"
     ]
    },
    {
     "name": "stderr",
     "output_type": "stream",
     "text": [
      "172.30.1.18 - - [18/Jun/2022 14:04:02] \"GET /?id=jj HTTP/1.1\" 200 -\n"
     ]
    },
    {
     "name": "stdout",
     "output_type": "stream",
     "text": [
      "jj\n"
     ]
    },
    {
     "name": "stderr",
     "output_type": "stream",
     "text": [
      "172.30.1.18 - - [18/Jun/2022 14:12:40] \"GET /?id=jj HTTP/1.1\" 200 -\n"
     ]
    },
    {
     "name": "stdout",
     "output_type": "stream",
     "text": [
      "jj\n"
     ]
    },
    {
     "name": "stderr",
     "output_type": "stream",
     "text": [
      "172.30.1.18 - - [18/Jun/2022 14:13:02] \"GET /?id=jj HTTP/1.1\" 200 -\n"
     ]
    },
    {
     "name": "stdout",
     "output_type": "stream",
     "text": [
      "jj\n"
     ]
    },
    {
     "name": "stderr",
     "output_type": "stream",
     "text": [
      "172.30.1.1 - - [18/Jun/2022 14:13:21] \"GET /?id=do HTTP/1.1\" 200 -\n"
     ]
    },
    {
     "name": "stdout",
     "output_type": "stream",
     "text": [
      "do\n"
     ]
    },
    {
     "name": "stderr",
     "output_type": "stream",
     "text": [
      "172.30.1.32 - - [18/Jun/2022 14:13:24] \"GET /?id=chs HTTP/1.1\" 200 -\n"
     ]
    },
    {
     "name": "stdout",
     "output_type": "stream",
     "text": [
      "chs\n"
     ]
    },
    {
     "name": "stderr",
     "output_type": "stream",
     "text": [
      "172.30.1.6 - - [18/Jun/2022 14:13:52] \"GET /?id=kim HTTP/1.1\" 200 -\n"
     ]
    },
    {
     "name": "stdout",
     "output_type": "stream",
     "text": [
      "kim\n"
     ]
    },
    {
     "name": "stderr",
     "output_type": "stream",
     "text": [
      "172.30.1.1 - - [18/Jun/2022 14:13:58] \"GET /?id=do HTTP/1.1\" 200 -\n"
     ]
    },
    {
     "name": "stdout",
     "output_type": "stream",
     "text": [
      "do\n"
     ]
    },
    {
     "name": "stderr",
     "output_type": "stream",
     "text": [
      "172.30.1.1 - - [18/Jun/2022 14:14:06] \"GET /?id=do HTTP/1.1\" 200 -\n"
     ]
    },
    {
     "name": "stdout",
     "output_type": "stream",
     "text": [
      "do\n"
     ]
    },
    {
     "name": "stderr",
     "output_type": "stream",
     "text": [
      "172.30.1.32 - - [18/Jun/2022 14:14:09] \"GET /?id=do HTTP/1.1\" 200 -\n"
     ]
    },
    {
     "name": "stdout",
     "output_type": "stream",
     "text": [
      "do\n"
     ]
    },
    {
     "name": "stderr",
     "output_type": "stream",
     "text": [
      "172.30.1.1 - - [18/Jun/2022 14:14:21] \"GET /?id=do HTTP/1.1\" 200 -\n"
     ]
    },
    {
     "name": "stdout",
     "output_type": "stream",
     "text": [
      "do\n"
     ]
    },
    {
     "name": "stderr",
     "output_type": "stream",
     "text": [
      "172.30.1.32 - - [18/Jun/2022 14:16:35] \"GET /?id=chs HTTP/1.1\" 200 -\n"
     ]
    },
    {
     "name": "stdout",
     "output_type": "stream",
     "text": [
      "chs\n"
     ]
    },
    {
     "name": "stderr",
     "output_type": "stream",
     "text": [
      "172.30.1.1 - - [18/Jun/2022 14:16:36] \"GET /?id=do HTTP/1.1\" 200 -\n"
     ]
    },
    {
     "name": "stdout",
     "output_type": "stream",
     "text": [
      "do\n"
     ]
    },
    {
     "name": "stderr",
     "output_type": "stream",
     "text": [
      "172.30.1.1 - - [18/Jun/2022 14:17:08] \"GET /?id=do HTTP/1.1\" 200 -\n"
     ]
    },
    {
     "name": "stdout",
     "output_type": "stream",
     "text": [
      "do\n"
     ]
    },
    {
     "name": "stderr",
     "output_type": "stream",
     "text": [
      "172.30.1.18 - - [18/Jun/2022 14:17:13] \"GET /?id=jj HTTP/1.1\" 200 -\n"
     ]
    },
    {
     "name": "stdout",
     "output_type": "stream",
     "text": [
      "jj\n"
     ]
    },
    {
     "name": "stderr",
     "output_type": "stream",
     "text": [
      "172.30.1.32 - - [18/Jun/2022 14:17:29] \"GET /?id=chs HTTP/1.1\" 200 -\n"
     ]
    },
    {
     "name": "stdout",
     "output_type": "stream",
     "text": [
      "chs\n"
     ]
    },
    {
     "name": "stderr",
     "output_type": "stream",
     "text": [
      "172.30.1.6 - - [18/Jun/2022 14:18:06] \"GET /?id=kim HTTP/1.1\" 200 -\n"
     ]
    },
    {
     "name": "stdout",
     "output_type": "stream",
     "text": [
      "kim\n"
     ]
    },
    {
     "name": "stderr",
     "output_type": "stream",
     "text": [
      "172.30.1.18 - - [18/Jun/2022 14:18:49] \"GET /?id=jj HTTP/1.1\" 200 -\n"
     ]
    },
    {
     "name": "stdout",
     "output_type": "stream",
     "text": [
      "jj\n"
     ]
    },
    {
     "name": "stderr",
     "output_type": "stream",
     "text": [
      "172.30.1.1 - - [18/Jun/2022 14:19:38] \"GET /?id=do HTTP/1.1\" 200 -\n"
     ]
    },
    {
     "name": "stdout",
     "output_type": "stream",
     "text": [
      "do\n"
     ]
    },
    {
     "name": "stderr",
     "output_type": "stream",
     "text": [
      "172.30.1.18 - - [18/Jun/2022 14:19:39] \"GET /?id=jj HTTP/1.1\" 200 -\n"
     ]
    },
    {
     "name": "stdout",
     "output_type": "stream",
     "text": [
      "jj\n"
     ]
    },
    {
     "name": "stderr",
     "output_type": "stream",
     "text": [
      "172.30.1.18 - - [18/Jun/2022 14:20:07] \"GET /?id=jj HTTP/1.1\" 200 -\n"
     ]
    },
    {
     "name": "stdout",
     "output_type": "stream",
     "text": [
      "jj\n"
     ]
    },
    {
     "name": "stderr",
     "output_type": "stream",
     "text": [
      "172.30.1.1 - - [18/Jun/2022 14:21:01] \"GET /?id=kim HTTP/1.1\" 200 -\n"
     ]
    },
    {
     "name": "stdout",
     "output_type": "stream",
     "text": [
      "kim\n"
     ]
    },
    {
     "name": "stderr",
     "output_type": "stream",
     "text": [
      "172.30.1.1 - - [18/Jun/2022 14:23:31] \"GET /?id=do HTTP/1.1\" 200 -\n"
     ]
    },
    {
     "name": "stdout",
     "output_type": "stream",
     "text": [
      "do\n"
     ]
    },
    {
     "name": "stderr",
     "output_type": "stream",
     "text": [
      "172.30.1.18 - - [18/Jun/2022 14:23:33] \"GET /?id=jj HTTP/1.1\" 200 -\n"
     ]
    },
    {
     "name": "stdout",
     "output_type": "stream",
     "text": [
      "jj\n"
     ]
    },
    {
     "name": "stderr",
     "output_type": "stream",
     "text": [
      "172.30.1.18 - - [18/Jun/2022 14:24:53] \"GET /?id=jj HTTP/1.1\" 200 -\n"
     ]
    },
    {
     "name": "stdout",
     "output_type": "stream",
     "text": [
      "jj\n"
     ]
    },
    {
     "name": "stderr",
     "output_type": "stream",
     "text": [
      "172.30.1.18 - - [18/Jun/2022 14:26:45] \"GET /?id=jj HTTP/1.1\" 200 -\n"
     ]
    },
    {
     "name": "stdout",
     "output_type": "stream",
     "text": [
      "jj\n"
     ]
    },
    {
     "name": "stderr",
     "output_type": "stream",
     "text": [
      "172.30.1.18 - - [18/Jun/2022 14:29:19] \"GET /?id=jj HTTP/1.1\" 200 -\n"
     ]
    },
    {
     "name": "stdout",
     "output_type": "stream",
     "text": [
      "jj\n"
     ]
    },
    {
     "name": "stderr",
     "output_type": "stream",
     "text": [
      "172.30.1.18 - - [18/Jun/2022 14:29:48] \"GET /?id=jj HTTP/1.1\" 200 -\n"
     ]
    },
    {
     "name": "stdout",
     "output_type": "stream",
     "text": [
      "jj\n"
     ]
    },
    {
     "name": "stderr",
     "output_type": "stream",
     "text": [
      "172.30.1.18 - - [18/Jun/2022 14:31:55] \"GET /?id=jj HTTP/1.1\" 200 -\n"
     ]
    },
    {
     "name": "stdout",
     "output_type": "stream",
     "text": [
      "jj\n"
     ]
    },
    {
     "name": "stderr",
     "output_type": "stream",
     "text": [
      "172.30.1.18 - - [18/Jun/2022 14:32:31] \"GET /?id=jj HTTP/1.1\" 200 -\n"
     ]
    },
    {
     "name": "stdout",
     "output_type": "stream",
     "text": [
      "jj\n"
     ]
    },
    {
     "name": "stderr",
     "output_type": "stream",
     "text": [
      "172.30.1.18 - - [18/Jun/2022 14:34:29] \"GET /?id=jj HTTP/1.1\" 200 -\n"
     ]
    },
    {
     "name": "stdout",
     "output_type": "stream",
     "text": [
      "jj\n"
     ]
    },
    {
     "name": "stderr",
     "output_type": "stream",
     "text": [
      "172.30.1.18 - - [18/Jun/2022 14:35:11] \"GET /?id=jj HTTP/1.1\" 200 -\n"
     ]
    },
    {
     "name": "stdout",
     "output_type": "stream",
     "text": [
      "jj\n"
     ]
    },
    {
     "name": "stderr",
     "output_type": "stream",
     "text": [
      "172.30.1.18 - - [18/Jun/2022 14:39:23] \"GET /?id=jj HTTP/1.1\" 200 -\n"
     ]
    },
    {
     "name": "stdout",
     "output_type": "stream",
     "text": [
      "jj\n"
     ]
    },
    {
     "name": "stderr",
     "output_type": "stream",
     "text": [
      "172.30.1.18 - - [18/Jun/2022 14:43:33] \"GET /?id=jj HTTP/1.1\" 200 -\n"
     ]
    },
    {
     "name": "stdout",
     "output_type": "stream",
     "text": [
      "jj\n"
     ]
    },
    {
     "name": "stderr",
     "output_type": "stream",
     "text": [
      "172.30.1.18 - - [18/Jun/2022 14:44:00] \"GET /?id=jj HTTP/1.1\" 200 -\n"
     ]
    },
    {
     "name": "stdout",
     "output_type": "stream",
     "text": [
      "jj\n"
     ]
    },
    {
     "name": "stderr",
     "output_type": "stream",
     "text": [
      "172.30.1.1 - - [18/Jun/2022 14:51:31] \"GET /?id=do HTTP/1.1\" 200 -\n"
     ]
    },
    {
     "name": "stdout",
     "output_type": "stream",
     "text": [
      "do\n"
     ]
    },
    {
     "name": "stderr",
     "output_type": "stream",
     "text": [
      "172.30.1.1 - - [18/Jun/2022 15:09:15] \"GET /?id=do HTTP/1.1\" 200 -\n"
     ]
    },
    {
     "name": "stdout",
     "output_type": "stream",
     "text": [
      "do\n"
     ]
    },
    {
     "name": "stderr",
     "output_type": "stream",
     "text": [
      "172.30.1.1 - - [18/Jun/2022 15:18:54] \"GET /?id=do HTTP/1.1\" 200 -\n"
     ]
    },
    {
     "name": "stdout",
     "output_type": "stream",
     "text": [
      "do\n"
     ]
    },
    {
     "name": "stderr",
     "output_type": "stream",
     "text": [
      "172.30.1.6 - - [18/Jun/2022 15:19:36] \"GET /?id=kim HTTP/1.1\" 200 -\n"
     ]
    },
    {
     "name": "stdout",
     "output_type": "stream",
     "text": [
      "kim\n"
     ]
    },
    {
     "name": "stderr",
     "output_type": "stream",
     "text": [
      "172.30.1.6 - - [18/Jun/2022 15:19:55] \"GET /?id=kim HTTP/1.1\" 200 -\n"
     ]
    },
    {
     "name": "stdout",
     "output_type": "stream",
     "text": [
      "kim\n"
     ]
    },
    {
     "name": "stderr",
     "output_type": "stream",
     "text": [
      "172.30.1.1 - - [18/Jun/2022 15:20:32] \"GET /?id=do HTTP/1.1\" 200 -\n"
     ]
    },
    {
     "name": "stdout",
     "output_type": "stream",
     "text": [
      "do\n"
     ]
    },
    {
     "name": "stderr",
     "output_type": "stream",
     "text": [
      "172.30.1.6 - - [18/Jun/2022 15:38:38] \"GET /?id=kim HTTP/1.1\" 200 -\n"
     ]
    },
    {
     "name": "stdout",
     "output_type": "stream",
     "text": [
      "kim\n"
     ]
    },
    {
     "name": "stderr",
     "output_type": "stream",
     "text": [
      "172.30.1.1 - - [18/Jun/2022 15:49:52] \"GET /?id=do HTTP/1.1\" 200 -\n"
     ]
    },
    {
     "name": "stdout",
     "output_type": "stream",
     "text": [
      "do\n"
     ]
    },
    {
     "name": "stderr",
     "output_type": "stream",
     "text": [
      "172.30.1.57 - - [18/Jun/2022 16:11:01] \"GET /?id=jyp HTTP/1.1\" 200 -\n"
     ]
    },
    {
     "name": "stdout",
     "output_type": "stream",
     "text": [
      "jyp\n"
     ]
    },
    {
     "name": "stderr",
     "output_type": "stream",
     "text": [
      "172.30.1.18 - - [18/Jun/2022 16:36:46] \"GET /?id=jj HTTP/1.1\" 200 -\n"
     ]
    },
    {
     "name": "stdout",
     "output_type": "stream",
     "text": [
      "jj\n"
     ]
    },
    {
     "name": "stderr",
     "output_type": "stream",
     "text": [
      "172.30.1.1 - - [18/Jun/2022 19:29:42] \"GET /?id=do HTTP/1.1\" 200 -\n"
     ]
    },
    {
     "name": "stdout",
     "output_type": "stream",
     "text": [
      "do\n"
     ]
    }
   ],
   "source": [
    "app = Flask(__name__)\n",
    "CORS(app)\n",
    "@app.route(\"/\",methods =['GET'])\n",
    "def hello():\n",
    "    input_id =request.args.get('id')\n",
    "    print(input_id)\n",
    "    temp = recommend(input_id)\n",
    "    return temp\n",
    "\n",
    "if __name__ == \"__main__\":\n",
    "    app.run(host='0.0.0.0', port='8081')"
   ]
  },
  {
   "cell_type": "code",
   "execution_count": null,
   "id": "286af15b",
   "metadata": {},
   "outputs": [],
   "source": []
  }
 ],
 "metadata": {
  "kernelspec": {
   "display_name": "Python 3 (ipykernel)",
   "language": "python",
   "name": "python3"
  },
  "language_info": {
   "codemirror_mode": {
    "name": "ipython",
    "version": 3
   },
   "file_extension": ".py",
   "mimetype": "text/x-python",
   "name": "python",
   "nbconvert_exporter": "python",
   "pygments_lexer": "ipython3",
   "version": "3.9.7"
  }
 },
 "nbformat": 4,
 "nbformat_minor": 5
}
