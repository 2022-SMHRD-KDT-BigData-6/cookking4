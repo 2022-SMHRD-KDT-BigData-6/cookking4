{
 "cells": [
  {
   "cell_type": "code",
   "execution_count": 1,
   "id": "2f69464d",
   "metadata": {},
   "outputs": [],
   "source": [
    "from selenium import webdriver as wb\n",
    "from selenium.webdriver.common.keys import Keys\n",
    "from bs4 import BeautifulSoup as bs\n",
    "import time\n",
    "import pandas as pd\n",
    "from urllib.request import urlretrieve as urlre # 이미지 경로를 파일로 저장"
   ]
  },
  {
   "cell_type": "code",
   "execution_count": 3,
   "id": "1771ac4d",
   "metadata": {},
   "outputs": [],
   "source": [
    "food_n_list = ['1','2','4','5','6','7','10','11','12','13','14','15','16','17','18','19','20','21','22','23','25','27','29','30','31','35','36','38','39','40','41','42','43','44','45','46','48','50','51','52','53','54','55','56','57','58','60','61','62','63','64','65','66','67','68','69','70','71','72','73','74','75','76','77','78','79','80','81','82','83','84','85','86','87','88','89','90','91','92','93','94','95','96','97','98','99','100','101','102','103','104','107','108','109','111','112','113','114','117','119','121','122','123','124','125','126','128','129','130','131','133','134','135','138','139','145','146','147','149','150','151','152','153','154','155','156','157','158','161','163','164','165','167','168','169','170','171','173','175','176','177','178','179','180','181','182','184','185','186','187','188','190','191','192','193','194','195','196','199','200','202','203','204','206','208','209','211','212','214','215','218','219','220','221','222','225','227','228','231','232','235','236','237','238','239','240','241','242','243','244','245','246','247','248','249','250','252','254','255','257','258','259','260','261','262','263','264','265','266','267','268','269','270','271','272','273','274','275','280','281','282','287','289','291','292','294','296','297','299','300','303','304','305','306','307','309','310','311','312','315','319','320','321','322','323','324','325','326','327','329','330','331','332','337','338','339','340','341','342','343','344','345','347','348','351','352','353','355','356','360','361','362','364','373','375','381','382','384','385','386','387','388','391','392','393','394','395','396','397','399','400','401','402','405','406','407','408','411','412','414','415','416','417','418','419','420','421','422','423','424','425','426','427','428','429','430','431','432','438','439','440','441','442','443','444','445','446','447','450','451','452','453','454','455','456','457','459','460','461','463','465','466','469','470','473','475','477','478','480','481','482','484','485','486','487','489','492','493','495','496','497','498','516','531','5836','39665','39692','62330','73679','73712','90834','90846','90868','90894','90904','90941','90960','90980','91023','120344','120401','120441','120463','120476','195453']\n",
    "food_list =['나물비빔밥','오곡밥','콩나물밥','약식','호박죽','흑임자죽','감자수제비','냉면','동치미막국수','열무김치냉면','채소국수','해물국수','만둣국','다시마냉국','두부국','두부조개탕','무맑은국','미역국','미역냉국','생태국','오이냉국','재첩국','쇠고기산적','쇠고기양송이볶음','팥국수','콩나물무침','우엉조림','멸치볶음','갈치무조림','닭불고기','두부다시마말이','팥칼국수','콩나물잡채','양배추말이찜','마늘장아찌','오징어불고기','갈비구이','갈비찜','제육보쌈','홍합꼬치구이','청국장찌개','순두부찌개','동태찌개','김치찌개','콩비지찌개','북어국','오색주먹밥도시락','해파리냉채','통배추김치','열무김치','오이소박이','나박김치','총각김치','굴깍두기','동치미','갓김치','꽃게찌개','감자탕','아구탕','조기매운탕','알탕','우거지된장찌개','샤브샤브','국수전골','낙지전골','선지국','콩나물국밥','곰탕','설렁탕','도가니탕','꼬리곰탕','갈비탕','부추김치','파김치','백김치','깻잎장아찌','오이지장아찌무침','콩자반','쇠고기장조림','연근조림','해물파전','오이나물','냉이된장찌개','계란말이','닭강정','배추겉절이','더덕구이','감자조림','마른오징어조림','죽순볶음','호박전','불고기','부추전','돼지갈비구이','꽁치무조림','김치적','낙지볶음','두부김치','두부미역냉채','해장라면','꽁치간장구이','감자고추채볶음','가는파잡채','묵과양념장','고등어살튀김과소스','가지와마른새우무침','떡갈비구이','골뱅이무침','두부양념조림','육회','삼계탕','주먹밥','유부계란찜','버섯덮밥','닭고기수삼샐러드','부대찌개','곱창전골','아귀찜','삼겹살채소말이','배추속댓국','송편','빈대떡','화양적','토란곰탕','쇠고기전골','고등어무조림','잡채','쌈장','오징어순대','가래떡꼬치','찬밥지짐이','동지팥죽','고구마줄기볶음','어묵닭고기조림','떡국','절편','수정과','팥시루떡','쇠고기완자찜','해물잡채','맑은떡국','찰밥','콩나물무밥','모듬쌈밥','달래된장찌개','쑥버섯볶음','봄동바지락볶음','김치동그랑땡','찬밥맛탕','양배춧국','오징어찌개','영양돌솥밥','시금치된장국','김치채소쌈','찰밥주먹밥','계란말이주먹밥','어묵국','조개맑은국','잣죽','고추장아찌','쇠고기무국','명란젓찌개','육개장','해물전골','초교탕','삼겹살깻잎전','닭꼬치구이','녹차수제비','갈비떡볶이','오징어산적','사골탕','감자국수','김치수제비','오곡밥쌈밥정식','오징어숙회','코다리찜','버섯만두전골','해물밥전','홍차계란장조림','가지된장찜','생태매운탕','두부굴찌개','버섯두부찌개','김치주먹밥','홍합탕','돼지갈비찜','떡볶이','제육불고기','배추밤김치','보쌈김치','사골우거지탕','찬밥전','단팥죽','불고기낙지전골','잔멸치된장볶음','별미밥','채소비빔소면','콩나물버섯덮밥','어묵꼬치','영양채소밥','사색나물','떡잡채','두부채소냉채','약과','참치주먹밥','유부미역된장국','삼색수제비','고들빼기김치','달래굴파전','달래장김치','두릅된장무침','숙주미나리무침','참나물고추장무침','오징어통구이','닭고기콩나물덮밥','김치두부쌈','호박두부찌개','해파리해물냉채','오징어풋마늘산적','상추겉절이비빔밥','두부알찜','김치꽁치조림','간장떡볶이','김치쌈밥','잔치국수','코다리조림','순대볶음','닭갈비','열무비빔밥','다시마볶음','된장깻잎장아찌','비빔쌀국수','아욱국','라볶이','고등어김치조림','바지락볶음','가지쇠고기볶음','버섯청국장찌개','부추부침개','새송이산적','닭개장','김치볶음밥','오징어채볶음','바지락칼국수','오징어도라지생채','애호박무침','양송이버섯죽','홍합미역국','오징어덮밥','대구탕','불고기찹쌀구이','고추부각','충무김밥','계란찜','콩나물비빔밥','인절미','상추채소무침','호박양파국','꽁치구이','오징어젓갈','무생채','해물국시','파래무침','단호박튀김','무나물','고등어된장조림','두부두루치기','시금치된장죽','제육겨자쌈','오곡주먹밥','무초김치','화전','콩나물미나리무침','꽃게해물탕','모듬전','오징어삼겹살볶음','채소영양밥','순두부','우묵냉채','버섯매운탕','동래파전','조기찜','김치홍합국','가지튀김','골뱅이볶음','닭가슴살해파리샐러드','어묵볶음','오징어섞어찌개','떡꼬치','참치김치찌개','오징어볶음과소면','부추잡채','쟁반라면','간장게장','녹두죽','돼지불고기','단호박구이','미역수제비','맑은대구탕','쇠고기덮밥','고등어튀김케첩조림','생굴채소무침','생선전','통마늘장아찌','북어해장국밥','봄동겉절이','양파전','꽃상추쌈','돼지고기우엉말이조림','다시마채소말이','무말랭이무침','낙지불고기','돌솥비빔밥','고등어양념구이','고등어조림','갈치구이','갈치조림','새우겨자채','깻잎조림','얼갈이열무물김치','간장','된장','고추장','고구마강정','근대된장국','된장찌개','깻잎말이김치','붉은갓동치미','시금치계란말이','낙지연포탕','새우죽','전복죽','죽순회와미나리강회','시금치나물','녹차콩국수','우무콩냉국','서리태콩국수','대대로닭칼국수','전어회무침','소꼬리찜','토란닭고기찜','녹두고물호박떡케이크','가지김치','버섯잡채','무쌈말이','된장채소수제비','참치죽','두부파프리카전','해물찌개','돼지고기김치찌개','두부조림','해물볶음밥','새송이쌈장구이','해물매운탕','해물순두부찌개','쫄면','떡만두국','꽁치김치찌개','비빔냉면','메기매운탕','잉어찜','송어샐러드','시금치배미음죽','시금치표고된장무른밥','한우토마토스튜','흑임자삼계죽','시래기돼지갈비찜','보쌈김치','감동젓무김치','시금치들깨수제비','돛나물 부추 오이무침','오이동치미','토마토미니새송이볶음','고구마잎무침','매운가지볶음','상추 치커리 오징어 초침무','가지무침과 호박잎쌈밥','호박무침','고추장아찌','깻잎장아찌','애호박 구이','단호박 고등어조림','당근잎 감자전','배추만두','콩비지동그랑땡']"
   ]
  },
  {
   "cell_type": "code",
   "execution_count": 4,
   "id": "65251205",
   "metadata": {
    "collapsed": true
   },
   "outputs": [
    {
     "name": "stderr",
     "output_type": "stream",
     "text": [
      "Exception ignored in: <function Service.__del__ at 0x0000021033B4E280>\n",
      "Traceback (most recent call last):\n",
      "  File \"C:\\ProgramData\\Anaconda3\\lib\\site-packages\\selenium\\webdriver\\common\\service.py\", line 172, in __del__\n",
      "    self.stop()\n",
      "  File \"C:\\ProgramData\\Anaconda3\\lib\\site-packages\\selenium\\webdriver\\common\\service.py\", line 147, in stop\n",
      "    self.send_remote_shutdown_command()\n",
      "  File \"C:\\ProgramData\\Anaconda3\\lib\\site-packages\\selenium\\webdriver\\common\\service.py\", line 128, in send_remote_shutdown_command\n",
      "    if not self.is_connectable():\n",
      "  File \"C:\\ProgramData\\Anaconda3\\lib\\site-packages\\selenium\\webdriver\\common\\service.py\", line 116, in is_connectable\n",
      "    return utils.is_connectable(self.port)\n",
      "  File \"C:\\ProgramData\\Anaconda3\\lib\\site-packages\\selenium\\webdriver\\common\\utils.py\", line 107, in is_connectable\n",
      "    socket_ = socket.create_connection((host, port), 1)\n",
      "  File \"C:\\ProgramData\\Anaconda3\\lib\\socket.py\", line 832, in create_connection\n",
      "    sock.connect(sa)\n",
      "KeyboardInterrupt: \n"
     ]
    },
    {
     "ename": "NoSuchWindowException",
     "evalue": "Message: no such window: target window already closed\nfrom unknown error: web view not found\n  (Session info: chrome=102.0.5005.115)\nStacktrace:\nBacktrace:\n\tOrdinal0 [0x00D4B8F3+2406643]\n\tOrdinal0 [0x00CDAF31+1945393]\n\tOrdinal0 [0x00BCC748+837448]\n\tOrdinal0 [0x00BB42B0+737968]\n\tOrdinal0 [0x00C16C09+1141769]\n\tOrdinal0 [0x00C23E22+1195554]\n\tOrdinal0 [0x00C14096+1130646]\n\tOrdinal0 [0x00BEE636+976438]\n\tOrdinal0 [0x00BEF546+980294]\n\tGetHandleVerifier [0x00FB9612+2498066]\n\tGetHandleVerifier [0x00FAC920+2445600]\n\tGetHandleVerifier [0x00DE4F2A+579370]\n\tGetHandleVerifier [0x00DE3D36+574774]\n\tOrdinal0 [0x00CE1C0B+1973259]\n\tOrdinal0 [0x00CE6688+1992328]\n\tOrdinal0 [0x00CE6775+1992565]\n\tOrdinal0 [0x00CEF8D1+2029777]\n\tBaseThreadInitThunk [0x7542FA29+25]\n\tRtlGetAppContainerNamedObjectPath [0x773A7A9E+286]\n\tRtlGetAppContainerNamedObjectPath [0x773A7A6E+238]\n",
     "output_type": "error",
     "traceback": [
      "\u001b[1;31m---------------------------------------------------------------------------\u001b[0m",
      "\u001b[1;31mNoSuchWindowException\u001b[0m                     Traceback (most recent call last)",
      "\u001b[1;32m~\\AppData\\Local\\Temp/ipykernel_19380/322358454.py\u001b[0m in \u001b[0;36m<module>\u001b[1;34m\u001b[0m\n\u001b[0;32m      7\u001b[0m     \u001b[0mtime\u001b[0m\u001b[1;33m.\u001b[0m\u001b[0msleep\u001b[0m\u001b[1;33m(\u001b[0m\u001b[1;36m1\u001b[0m\u001b[1;33m)\u001b[0m\u001b[1;33m\u001b[0m\u001b[1;33m\u001b[0m\u001b[0m\n\u001b[0;32m      8\u001b[0m \u001b[1;33m\u001b[0m\u001b[0m\n\u001b[1;32m----> 9\u001b[1;33m     \u001b[0msoup\u001b[0m \u001b[1;33m=\u001b[0m \u001b[0mbs\u001b[0m\u001b[1;33m(\u001b[0m\u001b[0mdriver\u001b[0m\u001b[1;33m.\u001b[0m\u001b[0mpage_source\u001b[0m\u001b[1;33m,\u001b[0m\u001b[1;34m'lxml'\u001b[0m\u001b[1;33m)\u001b[0m\u001b[1;33m\u001b[0m\u001b[1;33m\u001b[0m\u001b[0m\n\u001b[0m\u001b[0;32m     10\u001b[0m     \u001b[0mimg\u001b[0m \u001b[1;33m=\u001b[0m \u001b[0msoup\u001b[0m\u001b[1;33m.\u001b[0m\u001b[0mselect\u001b[0m\u001b[1;33m(\u001b[0m\u001b[1;34m'img.rg_i.Q4LuWd'\u001b[0m\u001b[1;33m)\u001b[0m\u001b[1;33m\u001b[0m\u001b[1;33m\u001b[0m\u001b[0m\n\u001b[0;32m     11\u001b[0m \u001b[1;33m\u001b[0m\u001b[0m\n",
      "\u001b[1;32mC:\\ProgramData\\Anaconda3\\lib\\site-packages\\selenium\\webdriver\\remote\\webdriver.py\u001b[0m in \u001b[0;36mpage_source\u001b[1;34m(self)\u001b[0m\n\u001b[0;32m    930\u001b[0m                 \u001b[0mdriver\u001b[0m\u001b[1;33m.\u001b[0m\u001b[0mpage_source\u001b[0m\u001b[1;33m\u001b[0m\u001b[1;33m\u001b[0m\u001b[0m\n\u001b[0;32m    931\u001b[0m         \"\"\"\n\u001b[1;32m--> 932\u001b[1;33m         \u001b[1;32mreturn\u001b[0m \u001b[0mself\u001b[0m\u001b[1;33m.\u001b[0m\u001b[0mexecute\u001b[0m\u001b[1;33m(\u001b[0m\u001b[0mCommand\u001b[0m\u001b[1;33m.\u001b[0m\u001b[0mGET_PAGE_SOURCE\u001b[0m\u001b[1;33m)\u001b[0m\u001b[1;33m[\u001b[0m\u001b[1;34m'value'\u001b[0m\u001b[1;33m]\u001b[0m\u001b[1;33m\u001b[0m\u001b[1;33m\u001b[0m\u001b[0m\n\u001b[0m\u001b[0;32m    933\u001b[0m \u001b[1;33m\u001b[0m\u001b[0m\n\u001b[0;32m    934\u001b[0m     \u001b[1;32mdef\u001b[0m \u001b[0mclose\u001b[0m\u001b[1;33m(\u001b[0m\u001b[0mself\u001b[0m\u001b[1;33m)\u001b[0m \u001b[1;33m->\u001b[0m \u001b[1;32mNone\u001b[0m\u001b[1;33m:\u001b[0m\u001b[1;33m\u001b[0m\u001b[1;33m\u001b[0m\u001b[0m\n",
      "\u001b[1;32mC:\\ProgramData\\Anaconda3\\lib\\site-packages\\selenium\\webdriver\\remote\\webdriver.py\u001b[0m in \u001b[0;36mexecute\u001b[1;34m(self, driver_command, params)\u001b[0m\n\u001b[0;32m    428\u001b[0m         \u001b[0mresponse\u001b[0m \u001b[1;33m=\u001b[0m \u001b[0mself\u001b[0m\u001b[1;33m.\u001b[0m\u001b[0mcommand_executor\u001b[0m\u001b[1;33m.\u001b[0m\u001b[0mexecute\u001b[0m\u001b[1;33m(\u001b[0m\u001b[0mdriver_command\u001b[0m\u001b[1;33m,\u001b[0m \u001b[0mparams\u001b[0m\u001b[1;33m)\u001b[0m\u001b[1;33m\u001b[0m\u001b[1;33m\u001b[0m\u001b[0m\n\u001b[0;32m    429\u001b[0m         \u001b[1;32mif\u001b[0m \u001b[0mresponse\u001b[0m\u001b[1;33m:\u001b[0m\u001b[1;33m\u001b[0m\u001b[1;33m\u001b[0m\u001b[0m\n\u001b[1;32m--> 430\u001b[1;33m             \u001b[0mself\u001b[0m\u001b[1;33m.\u001b[0m\u001b[0merror_handler\u001b[0m\u001b[1;33m.\u001b[0m\u001b[0mcheck_response\u001b[0m\u001b[1;33m(\u001b[0m\u001b[0mresponse\u001b[0m\u001b[1;33m)\u001b[0m\u001b[1;33m\u001b[0m\u001b[1;33m\u001b[0m\u001b[0m\n\u001b[0m\u001b[0;32m    431\u001b[0m             response['value'] = self._unwrap_value(\n\u001b[0;32m    432\u001b[0m                 response.get('value', None))\n",
      "\u001b[1;32mC:\\ProgramData\\Anaconda3\\lib\\site-packages\\selenium\\webdriver\\remote\\errorhandler.py\u001b[0m in \u001b[0;36mcheck_response\u001b[1;34m(self, response)\u001b[0m\n\u001b[0;32m    245\u001b[0m                 \u001b[0malert_text\u001b[0m \u001b[1;33m=\u001b[0m \u001b[0mvalue\u001b[0m\u001b[1;33m[\u001b[0m\u001b[1;34m'alert'\u001b[0m\u001b[1;33m]\u001b[0m\u001b[1;33m.\u001b[0m\u001b[0mget\u001b[0m\u001b[1;33m(\u001b[0m\u001b[1;34m'text'\u001b[0m\u001b[1;33m)\u001b[0m\u001b[1;33m\u001b[0m\u001b[1;33m\u001b[0m\u001b[0m\n\u001b[0;32m    246\u001b[0m             \u001b[1;32mraise\u001b[0m \u001b[0mexception_class\u001b[0m\u001b[1;33m(\u001b[0m\u001b[0mmessage\u001b[0m\u001b[1;33m,\u001b[0m \u001b[0mscreen\u001b[0m\u001b[1;33m,\u001b[0m \u001b[0mstacktrace\u001b[0m\u001b[1;33m,\u001b[0m \u001b[0malert_text\u001b[0m\u001b[1;33m)\u001b[0m  \u001b[1;31m# type: ignore[call-arg]  # mypy is not smart enough here\u001b[0m\u001b[1;33m\u001b[0m\u001b[1;33m\u001b[0m\u001b[0m\n\u001b[1;32m--> 247\u001b[1;33m         \u001b[1;32mraise\u001b[0m \u001b[0mexception_class\u001b[0m\u001b[1;33m(\u001b[0m\u001b[0mmessage\u001b[0m\u001b[1;33m,\u001b[0m \u001b[0mscreen\u001b[0m\u001b[1;33m,\u001b[0m \u001b[0mstacktrace\u001b[0m\u001b[1;33m)\u001b[0m\u001b[1;33m\u001b[0m\u001b[1;33m\u001b[0m\u001b[0m\n\u001b[0m\u001b[0;32m    248\u001b[0m \u001b[1;33m\u001b[0m\u001b[0m\n\u001b[0;32m    249\u001b[0m     \u001b[1;32mdef\u001b[0m \u001b[0m_value_or_default\u001b[0m\u001b[1;33m(\u001b[0m\u001b[0mself\u001b[0m\u001b[1;33m,\u001b[0m \u001b[0mobj\u001b[0m\u001b[1;33m:\u001b[0m \u001b[0mMapping\u001b[0m\u001b[1;33m[\u001b[0m\u001b[0m_KT\u001b[0m\u001b[1;33m,\u001b[0m \u001b[0m_VT\u001b[0m\u001b[1;33m]\u001b[0m\u001b[1;33m,\u001b[0m \u001b[0mkey\u001b[0m\u001b[1;33m:\u001b[0m \u001b[0m_KT\u001b[0m\u001b[1;33m,\u001b[0m \u001b[0mdefault\u001b[0m\u001b[1;33m:\u001b[0m \u001b[0m_VT\u001b[0m\u001b[1;33m)\u001b[0m \u001b[1;33m->\u001b[0m \u001b[0m_VT\u001b[0m\u001b[1;33m:\u001b[0m\u001b[1;33m\u001b[0m\u001b[1;33m\u001b[0m\u001b[0m\n",
      "\u001b[1;31mNoSuchWindowException\u001b[0m: Message: no such window: target window already closed\nfrom unknown error: web view not found\n  (Session info: chrome=102.0.5005.115)\nStacktrace:\nBacktrace:\n\tOrdinal0 [0x00D4B8F3+2406643]\n\tOrdinal0 [0x00CDAF31+1945393]\n\tOrdinal0 [0x00BCC748+837448]\n\tOrdinal0 [0x00BB42B0+737968]\n\tOrdinal0 [0x00C16C09+1141769]\n\tOrdinal0 [0x00C23E22+1195554]\n\tOrdinal0 [0x00C14096+1130646]\n\tOrdinal0 [0x00BEE636+976438]\n\tOrdinal0 [0x00BEF546+980294]\n\tGetHandleVerifier [0x00FB9612+2498066]\n\tGetHandleVerifier [0x00FAC920+2445600]\n\tGetHandleVerifier [0x00DE4F2A+579370]\n\tGetHandleVerifier [0x00DE3D36+574774]\n\tOrdinal0 [0x00CE1C0B+1973259]\n\tOrdinal0 [0x00CE6688+1992328]\n\tOrdinal0 [0x00CE6775+1992565]\n\tOrdinal0 [0x00CEF8D1+2029777]\n\tBaseThreadInitThunk [0x7542FA29+25]\n\tRtlGetAppContainerNamedObjectPath [0x773A7A9E+286]\n\tRtlGetAppContainerNamedObjectPath [0x773A7A6E+238]\n"
     ]
    }
   ],
   "source": [
    "for i in range(len(food_list)):\n",
    "    \n",
    "    url = f'https://www.google.com/search?q={food_list[i]}&source=lnms&tbm=isch&sa=X&ved=2ahUKEwiWiK2_kqT4AhXmUGwGHWpsD4UQ_AUoAXoECAIQAw'\n",
    "    driver = wb.Chrome()\n",
    "    driver.get(url)\n",
    "    \n",
    "    time.sleep(1)\n",
    "    \n",
    "    soup = bs(driver.page_source,'lxml')\n",
    "    img = soup.select('img.rg_i.Q4LuWd')\n",
    "    \n",
    "    urlre(img[0]['src'],f\"./image/{food_n_list[i]}.jpg\")\n",
    "\n",
    "    driver.close()"
   ]
  },
  {
   "cell_type": "code",
   "execution_count": 68,
   "id": "65a95fb6",
   "metadata": {},
   "outputs": [],
   "source": [
    "dic = {'recipe_id':food_n_list,'recipe_name':food_list}\n",
    "df = pd.DataFrame(dic)\n",
    "df.to_csv('list.csv', index ='false', encoding='cp949')"
   ]
  },
  {
   "cell_type": "code",
   "execution_count": null,
   "id": "02f25b6d",
   "metadata": {},
   "outputs": [],
   "source": []
  }
 ],
 "metadata": {
  "kernelspec": {
   "display_name": "Python 3 (ipykernel)",
   "language": "python",
   "name": "python3"
  },
  "language_info": {
   "codemirror_mode": {
    "name": "ipython",
    "version": 3
   },
   "file_extension": ".py",
   "mimetype": "text/x-python",
   "name": "python",
   "nbconvert_exporter": "python",
   "pygments_lexer": "ipython3",
   "version": "3.9.7"
  }
 },
 "nbformat": 4,
 "nbformat_minor": 5
}
